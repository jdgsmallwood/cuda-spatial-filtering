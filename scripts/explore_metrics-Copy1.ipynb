{
 "cells": [
  {
   "cell_type": "code",
   "execution_count": 1,
   "id": "fcb63fcf-c9a1-4b3c-b2c1-15d584bb5391",
   "metadata": {},
   "outputs": [
    {
     "name": "stdin",
     "output_type": "stream",
     "text": [
      " initial benchmarking\n"
     ]
    },
    {
     "name": "stderr",
     "output_type": "stream",
     "text": [
      "\u001b[32m2025-07-28 15:57:17.900\u001b[0m | \u001b[1mINFO    \u001b[0m | \u001b[36m__main__\u001b[0m:\u001b[36m<module>\u001b[0m:\u001b[36m22\u001b[0m - \u001b[1mPARAMS:\n",
      "\u001b[0m\n",
      "\u001b[32m2025-07-28 15:57:17.901\u001b[0m | \u001b[1mINFO    \u001b[0m | \u001b[36m__main__\u001b[0m:\u001b[36m<module>\u001b[0m:\u001b[36m23\u001b[0m - \u001b[1m{'NR_CHANNELS': 10, 'NR_RECEIVERS': 32, 'NR_BITS': 8, 'NR_POLARIZATIONS': 2, 'NR_PACKETS_FOR_CORRELATION': 16, 'NR_TIME_STEPS_PER_PACKET': 64, 'NR_RECEIVERS_PER_BLOCK': 32, 'NR_BUFFERS': 2, 'NR_CORRELATIONS_BLOCKS_TO_INTEGRATE': 10, 'NR_PACKETS_TOTAL': 5}\u001b[0m\n",
      "\u001b[32m2025-07-28 15:57:17.901\u001b[0m | \u001b[1mINFO    \u001b[0m | \u001b[36mmlflow_save_benchmarks\u001b[0m:\u001b[36mrun_benchmarks_and_save\u001b[0m:\u001b[36m26\u001b[0m - \u001b[1mSetting up MlFlow\u001b[0m\n",
      "\u001b[32m2025-07-28 15:57:17.911\u001b[0m | \u001b[1mINFO    \u001b[0m | \u001b[36mmlflow_save_benchmarks\u001b[0m:\u001b[36mrun_benchmarks_and_save\u001b[0m:\u001b[36m32\u001b[0m - \u001b[1mjob_id: 12aed519-b464-4d63-803a-da480e290ff1\u001b[0m\n",
      "\u001b[32m2025-07-28 15:57:17.915\u001b[0m | \u001b[1mINFO    \u001b[0m | \u001b[36mmlflow_save_benchmarks\u001b[0m:\u001b[36mrun_benchmarks_and_save\u001b[0m:\u001b[36m50\u001b[0m - \u001b[1mPARAMS:\n",
      "\u001b[0m\n",
      "\u001b[32m2025-07-28 15:57:17.916\u001b[0m | \u001b[1mINFO    \u001b[0m | \u001b[36mmlflow_save_benchmarks\u001b[0m:\u001b[36mrun_benchmarks_and_save\u001b[0m:\u001b[36m51\u001b[0m - \u001b[1m{'NR_CHANNELS': 10, 'NR_RECEIVERS': 32, 'NR_BITS': 8, 'NR_POLARIZATIONS': 2, 'NR_PACKETS_FOR_CORRELATION': 16, 'NR_TIME_STEPS_PER_PACKET': 64, 'NR_RECEIVERS_PER_BLOCK': 32, 'NR_BUFFERS': 2, 'NR_CORRELATIONS_BLOCKS_TO_INTEGRATE': 10, 'NR_PACKETS_TOTAL': 5, 'GENERATED_INPUT_FILE_NAME': 'input_12aed519-b464-4d63-803a-da480e290ff1.pcap', 'REMOTE_PATH': '/home/jsmallwo/projects/cuda-spatial-filtering/build', 'REMOTE_EXEC': './beamform_spatial /home/jsmallwo/projects/cuda-spatial-filtering/build/12aed519-b464-4d63-803a-da480e290ff1/input_12aed519-b464-4d63-803a-da480e290ff1.pcap benchmarks_12aed519-b464-4d63-803a-da480e290ff1.json', 'REMOTE_EXEC_NCU': './beamform_spatial ~/projects/output_10.pcap benchmarks_12aed519-b464-4d63-803a-da480e290ff1.json.ncu', 'PROFILE_OUTPUT': 'profile_output_12aed519-b464-4d63-803a-da480e290ff1', 'NSYS_PROFILE_OUTPUT': 'nsys_profile_output_12aed519-b464-4d63-803a-da480e290ff1', 'JOB_OUTPUT_FILE_NAME': 'output_12aed519-b464-4d63-803a-da480e290ff1.txt'}\u001b[0m\n",
      "\u001b[32m2025-07-28 15:57:17.916\u001b[0m | \u001b[1mINFO    \u001b[0m | \u001b[36mmlflow_save_benchmarks\u001b[0m:\u001b[36mrun_benchmarks_and_save\u001b[0m:\u001b[36m53\u001b[0m - \u001b[1mCreating input dataset....\u001b[0m\n",
      "rsync: -z: invalid option\n",
      "Usage:\trsync [GNU long option] [option] ...\n",
      "\trsync [GNU long option] [option] script-file ...\n",
      "GNU long options:\n",
      "\t--debug\n",
      "\t--debugger\n",
      "\t--dump-po-strings\n",
      "\t--dump-strings\n",
      "\t--help\n",
      "\t--init-file\n",
      "\t--login\n",
      "\t--noediting\n",
      "\t--noprofile\n",
      "\t--norc\n",
      "\t--posix\n",
      "\t--pretty-print\n",
      "\t--rcfile\n",
      "\t--restricted\n",
      "\t--verbose\n",
      "\t--version\n",
      "Shell options:\n",
      "\t-ilrsD or -c command or -O shopt_option\t\t(invocation only)\n",
      "\t-abefhkmnptuvxBCHP or -o option\n",
      "\u001b[32m2025-07-28 15:57:18.796\u001b[0m | \u001b[1mINFO    \u001b[0m | \u001b[36mmlflow_save_benchmarks\u001b[0m:\u001b[36mrun_benchmarks_and_save\u001b[0m:\u001b[36m66\u001b[0m - \u001b[1mCreating slurm script\u001b[0m\n",
      "\u001b[32m2025-07-28 15:57:18.796\u001b[0m | \u001b[1mINFO    \u001b[0m | \u001b[36mmlflow_save_benchmarks\u001b[0m:\u001b[36mrun_benchmarks_and_save\u001b[0m:\u001b[36m84\u001b[0m - \u001b[1mWriting to file\u001b[0m\n",
      "\u001b[32m2025-07-28 15:57:18.797\u001b[0m | \u001b[1mINFO    \u001b[0m | \u001b[36mmlflow_save_benchmarks\u001b[0m:\u001b[36mrun_benchmarks_and_save\u001b[0m:\u001b[36m89\u001b[0m - \u001b[1mSlurm script written to 'submit_job.sh'\u001b[0m\n",
      "\u001b[32m2025-07-28 15:57:18.797\u001b[0m | \u001b[1mINFO    \u001b[0m | \u001b[36mmlflow_save_benchmarks\u001b[0m:\u001b[36mrun_benchmarks_and_save\u001b[0m:\u001b[36m93\u001b[0m - \u001b[1mSyncing slurm script to remote...\u001b[0m\n",
      "ssh: connect to host ozstar.swin.edu.au port 22: Connection refused\n",
      "rsync: connection unexpectedly closed (0 bytes received so far) [sender]\n",
      "rsync error: unexplained error (code 255) at io.c(232) [sender=3.2.7]\n",
      "\u001b[32m2025-07-28 15:57:18.823\u001b[0m | \u001b[1mINFO    \u001b[0m | \u001b[36mmlflow_save_benchmarks\u001b[0m:\u001b[36mrun_benchmarks_and_save\u001b[0m:\u001b[36m98\u001b[0m - \u001b[1mSubmitting slurm job...\u001b[0m\n",
      "Pseudo-terminal will not be allocated because stdin is not a terminal.\n",
      "ssh: connect to host ozstar.swin.edu.au port 22: Connection refused\n",
      "\u001b[32m2025-07-28 15:57:18.845\u001b[0m | \u001b[1mINFO    \u001b[0m | \u001b[36mmlflow_save_benchmarks\u001b[0m:\u001b[36mrun_benchmarks_and_save\u001b[0m:\u001b[36m104\u001b[0m - \u001b[1mPulling back results...\u001b[0m\n"
     ]
    },
    {
     "name": "stdout",
     "output_type": "stream",
     "text": [
      "✅ PCAP file '12aed519-b464-4d63-803a-da480e290ff1/input_12aed519-b464-4d63-803a-da480e290ff1.pcap' written.\n"
     ]
    },
    {
     "name": "stderr",
     "output_type": "stream",
     "text": [
      "ssh: connect to host ozstar.swin.edu.au port 22: Connection refused\n",
      "rsync: connection unexpectedly closed (0 bytes received so far) [Receiver]\n",
      "rsync error: unexplained error (code 255) at io.c(232) [Receiver=3.2.7]\n",
      "ssh: connect to host ozstar.swin.edu.au port 22: Connection refused\n",
      "rsync: connection unexpectedly closed (0 bytes received so far) [Receiver]\n",
      "rsync error: unexplained error (code 255) at io.c(232) [Receiver=3.2.7]\n",
      "ssh: connect to host ozstar.swin.edu.au port 22: Connection refused\n",
      "rsync: connection unexpectedly closed (0 bytes received so far) [Receiver]\n",
      "rsync error: unexplained error (code 255) at io.c(232) [Receiver=3.2.7]\n",
      "ssh: connect to host ozstar.swin.edu.au port 22: Connection refused\n",
      "rsync: connection unexpectedly closed (0 bytes received so far) [Receiver]\n",
      "rsync error: unexplained error (code 255) at io.c(232) [Receiver=3.2.7]\n",
      "ssh: connect to host ozstar.swin.edu.au port 22: Connection refused\n",
      "rsync: connection unexpectedly closed (0 bytes received so far) [Receiver]\n",
      "rsync error: unexplained error (code 255) at io.c(232) [Receiver=3.2.7]\n",
      "\u001b[32m2025-07-28 15:57:20.006\u001b[0m | \u001b[1mINFO    \u001b[0m | \u001b[36mmlflow_save_benchmarks\u001b[0m:\u001b[36mrun_benchmarks_and_save\u001b[0m:\u001b[36m155\u001b[0m - \u001b[1mStarting MLFlow run...\u001b[0m\n"
     ]
    },
    {
     "name": "stdout",
     "output_type": "stream",
     "text": [
      "🏃 View run burly-bear-970 at: http://localhost:5000/#/experiments/722449737966634716/runs/9e48362834bf47a5910df6f1edb9f23d\n",
      "🧪 View experiment at: http://localhost:5000/#/experiments/722449737966634716\n"
     ]
    },
    {
     "ename": "FileNotFoundError",
     "evalue": "[Errno 2] No such file or directory: '12aed519-b464-4d63-803a-da480e290ff1/profile_output_12aed519-b464-4d63-803a-da480e290ff1.csv'",
     "output_type": "error",
     "traceback": [
      "\u001b[0;31m---------------------------------------------------------------------------\u001b[0m",
      "\u001b[0;31mFileNotFoundError\u001b[0m                         Traceback (most recent call last)",
      "Cell \u001b[0;32mIn[1], line 25\u001b[0m\n\u001b[1;32m     22\u001b[0m logger\u001b[38;5;241m.\u001b[39minfo(\u001b[38;5;124mf\u001b[39m\u001b[38;5;124m\"\u001b[39m\u001b[38;5;124mPARAMS:\u001b[39m\u001b[38;5;130;01m\\n\u001b[39;00m\u001b[38;5;124m\"\u001b[39m)\n\u001b[1;32m     23\u001b[0m logger\u001b[38;5;241m.\u001b[39minfo(params)\n\u001b[0;32m---> 25\u001b[0m \u001b[43mrun_benchmarks_and_save\u001b[49m\u001b[43m(\u001b[49m\u001b[43mparams\u001b[49m\u001b[43m,\u001b[49m\u001b[43m \u001b[49m\u001b[43mrun_description\u001b[49m\u001b[43m)\u001b[49m\n",
      "File \u001b[0;32m~/projects/cuda-spatial-filtering/scripts/mlflow_save_benchmarks.py:164\u001b[0m, in \u001b[0;36mrun_benchmarks_and_save\u001b[0;34m(params, run_description)\u001b[0m\n\u001b[1;32m    162\u001b[0m \u001b[38;5;28;01mwith\u001b[39;00m mlflow\u001b[38;5;241m.\u001b[39mstart_run(description\u001b[38;5;241m=\u001b[39mdescription) \u001b[38;5;28;01mas\u001b[39;00m run:\n\u001b[1;32m    163\u001b[0m     profile_path \u001b[38;5;241m=\u001b[39m \u001b[38;5;124mf\u001b[39m\u001b[38;5;124m\"\u001b[39m\u001b[38;5;132;01m{\u001b[39;00mos\u001b[38;5;241m.\u001b[39mpath\u001b[38;5;241m.\u001b[39mjoin(LOCAL_OUTPUT_DIR,\u001b[38;5;250m \u001b[39mparams[\u001b[38;5;124m'\u001b[39m\u001b[38;5;124mPROFILE_OUTPUT\u001b[39m\u001b[38;5;124m'\u001b[39m])\u001b[38;5;132;01m}\u001b[39;00m\u001b[38;5;124m.csv\u001b[39m\u001b[38;5;124m\"\u001b[39m\n\u001b[0;32m--> 164\u001b[0m     data \u001b[38;5;241m=\u001b[39m \u001b[43mpd\u001b[49m\u001b[38;5;241;43m.\u001b[39;49m\u001b[43mread_csv\u001b[49m\u001b[43m(\u001b[49m\u001b[43mprofile_path\u001b[49m\u001b[43m)\u001b[49m\n\u001b[1;32m    165\u001b[0m     \u001b[38;5;66;03m#model_params = extract_parameters_from_csv(data)\u001b[39;00m\n\u001b[1;32m    166\u001b[0m     logger\u001b[38;5;241m.\u001b[39minfo(\u001b[38;5;124m\"\u001b[39m\u001b[38;5;124mLogging parameters...\u001b[39m\u001b[38;5;124m\"\u001b[39m)\n",
      "File \u001b[0;32m~/projects/cuda-spatial-filtering/scripts/.venv/lib/python3.10/site-packages/pandas/io/parsers/readers.py:1026\u001b[0m, in \u001b[0;36mread_csv\u001b[0;34m(filepath_or_buffer, sep, delimiter, header, names, index_col, usecols, dtype, engine, converters, true_values, false_values, skipinitialspace, skiprows, skipfooter, nrows, na_values, keep_default_na, na_filter, verbose, skip_blank_lines, parse_dates, infer_datetime_format, keep_date_col, date_parser, date_format, dayfirst, cache_dates, iterator, chunksize, compression, thousands, decimal, lineterminator, quotechar, quoting, doublequote, escapechar, comment, encoding, encoding_errors, dialect, on_bad_lines, delim_whitespace, low_memory, memory_map, float_precision, storage_options, dtype_backend)\u001b[0m\n\u001b[1;32m   1013\u001b[0m kwds_defaults \u001b[38;5;241m=\u001b[39m _refine_defaults_read(\n\u001b[1;32m   1014\u001b[0m     dialect,\n\u001b[1;32m   1015\u001b[0m     delimiter,\n\u001b[0;32m   (...)\u001b[0m\n\u001b[1;32m   1022\u001b[0m     dtype_backend\u001b[38;5;241m=\u001b[39mdtype_backend,\n\u001b[1;32m   1023\u001b[0m )\n\u001b[1;32m   1024\u001b[0m kwds\u001b[38;5;241m.\u001b[39mupdate(kwds_defaults)\n\u001b[0;32m-> 1026\u001b[0m \u001b[38;5;28;01mreturn\u001b[39;00m \u001b[43m_read\u001b[49m\u001b[43m(\u001b[49m\u001b[43mfilepath_or_buffer\u001b[49m\u001b[43m,\u001b[49m\u001b[43m \u001b[49m\u001b[43mkwds\u001b[49m\u001b[43m)\u001b[49m\n",
      "File \u001b[0;32m~/projects/cuda-spatial-filtering/scripts/.venv/lib/python3.10/site-packages/pandas/io/parsers/readers.py:620\u001b[0m, in \u001b[0;36m_read\u001b[0;34m(filepath_or_buffer, kwds)\u001b[0m\n\u001b[1;32m    617\u001b[0m _validate_names(kwds\u001b[38;5;241m.\u001b[39mget(\u001b[38;5;124m\"\u001b[39m\u001b[38;5;124mnames\u001b[39m\u001b[38;5;124m\"\u001b[39m, \u001b[38;5;28;01mNone\u001b[39;00m))\n\u001b[1;32m    619\u001b[0m \u001b[38;5;66;03m# Create the parser.\u001b[39;00m\n\u001b[0;32m--> 620\u001b[0m parser \u001b[38;5;241m=\u001b[39m \u001b[43mTextFileReader\u001b[49m\u001b[43m(\u001b[49m\u001b[43mfilepath_or_buffer\u001b[49m\u001b[43m,\u001b[49m\u001b[43m \u001b[49m\u001b[38;5;241;43m*\u001b[39;49m\u001b[38;5;241;43m*\u001b[39;49m\u001b[43mkwds\u001b[49m\u001b[43m)\u001b[49m\n\u001b[1;32m    622\u001b[0m \u001b[38;5;28;01mif\u001b[39;00m chunksize \u001b[38;5;129;01mor\u001b[39;00m iterator:\n\u001b[1;32m    623\u001b[0m     \u001b[38;5;28;01mreturn\u001b[39;00m parser\n",
      "File \u001b[0;32m~/projects/cuda-spatial-filtering/scripts/.venv/lib/python3.10/site-packages/pandas/io/parsers/readers.py:1620\u001b[0m, in \u001b[0;36mTextFileReader.__init__\u001b[0;34m(self, f, engine, **kwds)\u001b[0m\n\u001b[1;32m   1617\u001b[0m     \u001b[38;5;28mself\u001b[39m\u001b[38;5;241m.\u001b[39moptions[\u001b[38;5;124m\"\u001b[39m\u001b[38;5;124mhas_index_names\u001b[39m\u001b[38;5;124m\"\u001b[39m] \u001b[38;5;241m=\u001b[39m kwds[\u001b[38;5;124m\"\u001b[39m\u001b[38;5;124mhas_index_names\u001b[39m\u001b[38;5;124m\"\u001b[39m]\n\u001b[1;32m   1619\u001b[0m \u001b[38;5;28mself\u001b[39m\u001b[38;5;241m.\u001b[39mhandles: IOHandles \u001b[38;5;241m|\u001b[39m \u001b[38;5;28;01mNone\u001b[39;00m \u001b[38;5;241m=\u001b[39m \u001b[38;5;28;01mNone\u001b[39;00m\n\u001b[0;32m-> 1620\u001b[0m \u001b[38;5;28mself\u001b[39m\u001b[38;5;241m.\u001b[39m_engine \u001b[38;5;241m=\u001b[39m \u001b[38;5;28;43mself\u001b[39;49m\u001b[38;5;241;43m.\u001b[39;49m\u001b[43m_make_engine\u001b[49m\u001b[43m(\u001b[49m\u001b[43mf\u001b[49m\u001b[43m,\u001b[49m\u001b[43m \u001b[49m\u001b[38;5;28;43mself\u001b[39;49m\u001b[38;5;241;43m.\u001b[39;49m\u001b[43mengine\u001b[49m\u001b[43m)\u001b[49m\n",
      "File \u001b[0;32m~/projects/cuda-spatial-filtering/scripts/.venv/lib/python3.10/site-packages/pandas/io/parsers/readers.py:1880\u001b[0m, in \u001b[0;36mTextFileReader._make_engine\u001b[0;34m(self, f, engine)\u001b[0m\n\u001b[1;32m   1878\u001b[0m     \u001b[38;5;28;01mif\u001b[39;00m \u001b[38;5;124m\"\u001b[39m\u001b[38;5;124mb\u001b[39m\u001b[38;5;124m\"\u001b[39m \u001b[38;5;129;01mnot\u001b[39;00m \u001b[38;5;129;01min\u001b[39;00m mode:\n\u001b[1;32m   1879\u001b[0m         mode \u001b[38;5;241m+\u001b[39m\u001b[38;5;241m=\u001b[39m \u001b[38;5;124m\"\u001b[39m\u001b[38;5;124mb\u001b[39m\u001b[38;5;124m\"\u001b[39m\n\u001b[0;32m-> 1880\u001b[0m \u001b[38;5;28mself\u001b[39m\u001b[38;5;241m.\u001b[39mhandles \u001b[38;5;241m=\u001b[39m \u001b[43mget_handle\u001b[49m\u001b[43m(\u001b[49m\n\u001b[1;32m   1881\u001b[0m \u001b[43m    \u001b[49m\u001b[43mf\u001b[49m\u001b[43m,\u001b[49m\n\u001b[1;32m   1882\u001b[0m \u001b[43m    \u001b[49m\u001b[43mmode\u001b[49m\u001b[43m,\u001b[49m\n\u001b[1;32m   1883\u001b[0m \u001b[43m    \u001b[49m\u001b[43mencoding\u001b[49m\u001b[38;5;241;43m=\u001b[39;49m\u001b[38;5;28;43mself\u001b[39;49m\u001b[38;5;241;43m.\u001b[39;49m\u001b[43moptions\u001b[49m\u001b[38;5;241;43m.\u001b[39;49m\u001b[43mget\u001b[49m\u001b[43m(\u001b[49m\u001b[38;5;124;43m\"\u001b[39;49m\u001b[38;5;124;43mencoding\u001b[39;49m\u001b[38;5;124;43m\"\u001b[39;49m\u001b[43m,\u001b[49m\u001b[43m \u001b[49m\u001b[38;5;28;43;01mNone\u001b[39;49;00m\u001b[43m)\u001b[49m\u001b[43m,\u001b[49m\n\u001b[1;32m   1884\u001b[0m \u001b[43m    \u001b[49m\u001b[43mcompression\u001b[49m\u001b[38;5;241;43m=\u001b[39;49m\u001b[38;5;28;43mself\u001b[39;49m\u001b[38;5;241;43m.\u001b[39;49m\u001b[43moptions\u001b[49m\u001b[38;5;241;43m.\u001b[39;49m\u001b[43mget\u001b[49m\u001b[43m(\u001b[49m\u001b[38;5;124;43m\"\u001b[39;49m\u001b[38;5;124;43mcompression\u001b[39;49m\u001b[38;5;124;43m\"\u001b[39;49m\u001b[43m,\u001b[49m\u001b[43m \u001b[49m\u001b[38;5;28;43;01mNone\u001b[39;49;00m\u001b[43m)\u001b[49m\u001b[43m,\u001b[49m\n\u001b[1;32m   1885\u001b[0m \u001b[43m    \u001b[49m\u001b[43mmemory_map\u001b[49m\u001b[38;5;241;43m=\u001b[39;49m\u001b[38;5;28;43mself\u001b[39;49m\u001b[38;5;241;43m.\u001b[39;49m\u001b[43moptions\u001b[49m\u001b[38;5;241;43m.\u001b[39;49m\u001b[43mget\u001b[49m\u001b[43m(\u001b[49m\u001b[38;5;124;43m\"\u001b[39;49m\u001b[38;5;124;43mmemory_map\u001b[39;49m\u001b[38;5;124;43m\"\u001b[39;49m\u001b[43m,\u001b[49m\u001b[43m \u001b[49m\u001b[38;5;28;43;01mFalse\u001b[39;49;00m\u001b[43m)\u001b[49m\u001b[43m,\u001b[49m\n\u001b[1;32m   1886\u001b[0m \u001b[43m    \u001b[49m\u001b[43mis_text\u001b[49m\u001b[38;5;241;43m=\u001b[39;49m\u001b[43mis_text\u001b[49m\u001b[43m,\u001b[49m\n\u001b[1;32m   1887\u001b[0m \u001b[43m    \u001b[49m\u001b[43merrors\u001b[49m\u001b[38;5;241;43m=\u001b[39;49m\u001b[38;5;28;43mself\u001b[39;49m\u001b[38;5;241;43m.\u001b[39;49m\u001b[43moptions\u001b[49m\u001b[38;5;241;43m.\u001b[39;49m\u001b[43mget\u001b[49m\u001b[43m(\u001b[49m\u001b[38;5;124;43m\"\u001b[39;49m\u001b[38;5;124;43mencoding_errors\u001b[39;49m\u001b[38;5;124;43m\"\u001b[39;49m\u001b[43m,\u001b[49m\u001b[43m \u001b[49m\u001b[38;5;124;43m\"\u001b[39;49m\u001b[38;5;124;43mstrict\u001b[39;49m\u001b[38;5;124;43m\"\u001b[39;49m\u001b[43m)\u001b[49m\u001b[43m,\u001b[49m\n\u001b[1;32m   1888\u001b[0m \u001b[43m    \u001b[49m\u001b[43mstorage_options\u001b[49m\u001b[38;5;241;43m=\u001b[39;49m\u001b[38;5;28;43mself\u001b[39;49m\u001b[38;5;241;43m.\u001b[39;49m\u001b[43moptions\u001b[49m\u001b[38;5;241;43m.\u001b[39;49m\u001b[43mget\u001b[49m\u001b[43m(\u001b[49m\u001b[38;5;124;43m\"\u001b[39;49m\u001b[38;5;124;43mstorage_options\u001b[39;49m\u001b[38;5;124;43m\"\u001b[39;49m\u001b[43m,\u001b[49m\u001b[43m \u001b[49m\u001b[38;5;28;43;01mNone\u001b[39;49;00m\u001b[43m)\u001b[49m\u001b[43m,\u001b[49m\n\u001b[1;32m   1889\u001b[0m \u001b[43m\u001b[49m\u001b[43m)\u001b[49m\n\u001b[1;32m   1890\u001b[0m \u001b[38;5;28;01massert\u001b[39;00m \u001b[38;5;28mself\u001b[39m\u001b[38;5;241m.\u001b[39mhandles \u001b[38;5;129;01mis\u001b[39;00m \u001b[38;5;129;01mnot\u001b[39;00m \u001b[38;5;28;01mNone\u001b[39;00m\n\u001b[1;32m   1891\u001b[0m f \u001b[38;5;241m=\u001b[39m \u001b[38;5;28mself\u001b[39m\u001b[38;5;241m.\u001b[39mhandles\u001b[38;5;241m.\u001b[39mhandle\n",
      "File \u001b[0;32m~/projects/cuda-spatial-filtering/scripts/.venv/lib/python3.10/site-packages/pandas/io/common.py:873\u001b[0m, in \u001b[0;36mget_handle\u001b[0;34m(path_or_buf, mode, encoding, compression, memory_map, is_text, errors, storage_options)\u001b[0m\n\u001b[1;32m    868\u001b[0m \u001b[38;5;28;01melif\u001b[39;00m \u001b[38;5;28misinstance\u001b[39m(handle, \u001b[38;5;28mstr\u001b[39m):\n\u001b[1;32m    869\u001b[0m     \u001b[38;5;66;03m# Check whether the filename is to be opened in binary mode.\u001b[39;00m\n\u001b[1;32m    870\u001b[0m     \u001b[38;5;66;03m# Binary mode does not support 'encoding' and 'newline'.\u001b[39;00m\n\u001b[1;32m    871\u001b[0m     \u001b[38;5;28;01mif\u001b[39;00m ioargs\u001b[38;5;241m.\u001b[39mencoding \u001b[38;5;129;01mand\u001b[39;00m \u001b[38;5;124m\"\u001b[39m\u001b[38;5;124mb\u001b[39m\u001b[38;5;124m\"\u001b[39m \u001b[38;5;129;01mnot\u001b[39;00m \u001b[38;5;129;01min\u001b[39;00m ioargs\u001b[38;5;241m.\u001b[39mmode:\n\u001b[1;32m    872\u001b[0m         \u001b[38;5;66;03m# Encoding\u001b[39;00m\n\u001b[0;32m--> 873\u001b[0m         handle \u001b[38;5;241m=\u001b[39m \u001b[38;5;28;43mopen\u001b[39;49m\u001b[43m(\u001b[49m\n\u001b[1;32m    874\u001b[0m \u001b[43m            \u001b[49m\u001b[43mhandle\u001b[49m\u001b[43m,\u001b[49m\n\u001b[1;32m    875\u001b[0m \u001b[43m            \u001b[49m\u001b[43mioargs\u001b[49m\u001b[38;5;241;43m.\u001b[39;49m\u001b[43mmode\u001b[49m\u001b[43m,\u001b[49m\n\u001b[1;32m    876\u001b[0m \u001b[43m            \u001b[49m\u001b[43mencoding\u001b[49m\u001b[38;5;241;43m=\u001b[39;49m\u001b[43mioargs\u001b[49m\u001b[38;5;241;43m.\u001b[39;49m\u001b[43mencoding\u001b[49m\u001b[43m,\u001b[49m\n\u001b[1;32m    877\u001b[0m \u001b[43m            \u001b[49m\u001b[43merrors\u001b[49m\u001b[38;5;241;43m=\u001b[39;49m\u001b[43merrors\u001b[49m\u001b[43m,\u001b[49m\n\u001b[1;32m    878\u001b[0m \u001b[43m            \u001b[49m\u001b[43mnewline\u001b[49m\u001b[38;5;241;43m=\u001b[39;49m\u001b[38;5;124;43m\"\u001b[39;49m\u001b[38;5;124;43m\"\u001b[39;49m\u001b[43m,\u001b[49m\n\u001b[1;32m    879\u001b[0m \u001b[43m        \u001b[49m\u001b[43m)\u001b[49m\n\u001b[1;32m    880\u001b[0m     \u001b[38;5;28;01melse\u001b[39;00m:\n\u001b[1;32m    881\u001b[0m         \u001b[38;5;66;03m# Binary mode\u001b[39;00m\n\u001b[1;32m    882\u001b[0m         handle \u001b[38;5;241m=\u001b[39m \u001b[38;5;28mopen\u001b[39m(handle, ioargs\u001b[38;5;241m.\u001b[39mmode)\n",
      "\u001b[0;31mFileNotFoundError\u001b[0m: [Errno 2] No such file or directory: '12aed519-b464-4d63-803a-da480e290ff1/profile_output_12aed519-b464-4d63-803a-da480e290ff1.csv'"
     ]
    }
   ],
   "source": [
    "from loguru import logger\n",
    "from mlflow_save_benchmarks import run_benchmarks_and_save\n",
    "\n",
    "\n",
    "run_description = input()\n",
    "\n",
    "for channels in [10,20,30,40,50,60,100,200,400,1000]:\n",
    "    for packets in [5, 50, 500, 5000, 50000]:\n",
    "        params = {}\n",
    "        \n",
    "        params['NR_CHANNELS'] = channels\n",
    "        params['NR_RECEIVERS'] = 32\n",
    "        params['NR_BITS'] = 8\n",
    "        params['NR_POLARIZATIONS'] = 2\n",
    "        params['NR_PACKETS_FOR_CORRELATION'] = 16\n",
    "        params['NR_TIME_STEPS_PER_PACKET'] = 64\n",
    "        params['NR_RECEIVERS_PER_BLOCK'] = 32\n",
    "        params['NR_BUFFERS'] = 2\n",
    "        params['NR_CORRELATIONS_BLOCKS_TO_INTEGRATE'] = 10\n",
    "        params['NR_PACKETS_TOTAL'] = packets\n",
    "        \n",
    "        logger.info(f\"PARAMS:\\n\")\n",
    "        logger.info(params)\n",
    "        \n",
    "        run_benchmarks_and_save(params, run_description)\n",
    "\n",
    "\n"
   ]
  },
  {
   "cell_type": "code",
   "execution_count": 2,
   "id": "87aedee5-6fb6-42a4-8643-a6e80e13257d",
   "metadata": {},
   "outputs": [
    {
     "name": "stdout",
     "output_type": "stream",
     "text": [
      ".\t\t\t\t      explore_metrics.ipynb\n",
      "..\t\t\t\t      .ipynb_checkpoints\n",
      "benchmark-requirements.txt\t      mlflow_save_benchmarks.py\n",
      "create_pcap.py\t\t\t      __pycache__\n",
      "ea00d208-abaa-48c3-aafc-868b7b95e356  .venv\n",
      "explore_metrics-Copy1.ipynb\n"
     ]
    }
   ],
   "source": [
    "!ls -a"
   ]
  },
  {
   "cell_type": "code",
   "execution_count": 3,
   "id": "37a26688-beb8-4f7a-8578-2ef3a5e72f76",
   "metadata": {},
   "outputs": [
    {
     "name": "stdout",
     "output_type": "stream",
     "text": [
      "✅ PCAP file 'output.pcap' written.\n"
     ]
    }
   ],
   "source": [
    "!source .venv/bin/activate && python create_pcap.py"
   ]
  },
  {
   "cell_type": "code",
   "execution_count": null,
   "id": "5aa72f4e-f1f2-4b28-a3ae-f121c8ea24ff",
   "metadata": {},
   "outputs": [],
   "source": []
  }
 ],
 "metadata": {
  "kernelspec": {
   "display_name": "Python 3 (ipykernel)",
   "language": "python",
   "name": "python3"
  },
  "language_info": {
   "codemirror_mode": {
    "name": "ipython",
    "version": 3
   },
   "file_extension": ".py",
   "mimetype": "text/x-python",
   "name": "python",
   "nbconvert_exporter": "python",
   "pygments_lexer": "ipython3",
   "version": "3.10.12"
  }
 },
 "nbformat": 4,
 "nbformat_minor": 5
}
