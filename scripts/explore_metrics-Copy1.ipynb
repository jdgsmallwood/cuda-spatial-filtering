{
 "cells": [
  {
   "cell_type": "code",
   "execution_count": null,
   "id": "fcb63fcf-c9a1-4b3c-b2c1-15d584bb5391",
   "metadata": {},
   "outputs": [],
   "source": [
    "from loguru import logger\n",
    "from mlflow_save_benchmarks import run_benchmarks_and_save\n",
    "\n",
    "\n",
    "run_description = input()\n",
    "\n",
    "\n",
    "params = {}\n",
    "\n",
    "params['NR_CHANNELS'] = 16\n",
    "params['NR_RECEIVERS'] = 32\n",
    "params['NR_BITS'] = 8\n",
    "params['NR_POLARIZATIONS'] = 2\n",
    "params['NR_PACKETS_FOR_CORRELATION'] = 16\n",
    "params['NR_TIME_STEPS_PER_PACKET'] = 64\n",
    "params['NR_RECEIVERS_PER_BLOCK'] = 32\n",
    "params['NR_BUFFERS'] = 2\n",
    "params['NR_CORRELATIONS_BLOCKS_TO_INTEGRATE'] = 10\n",
    "params['NR_PACKETS_TOTAL'] = 50\n",
    "\n",
    "logger.info(f\"PARAMS:\\n\")\n",
    "logger.info(params)\n",
    "\n",
    "run_benchmarks_and_save(params, run_description)\n",
    "\n",
    "\n"
   ]
  },
  {
   "cell_type": "code",
   "execution_count": null,
   "id": "87aedee5-6fb6-42a4-8643-a6e80e13257d",
   "metadata": {},
   "outputs": [],
   "source": []
  }
 ],
 "metadata": {
  "kernelspec": {
   "display_name": "Python 3 (ipykernel)",
   "language": "python",
   "name": "python3"
  },
  "language_info": {
   "codemirror_mode": {
    "name": "ipython",
    "version": 3
   },
   "file_extension": ".py",
   "mimetype": "text/x-python",
   "name": "python",
   "nbconvert_exporter": "python",
   "pygments_lexer": "ipython3",
   "version": "3.13.5"
  }
 },
 "nbformat": 4,
 "nbformat_minor": 5
}
