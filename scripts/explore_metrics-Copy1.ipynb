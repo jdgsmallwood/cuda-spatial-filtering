{
 "cells": [
  {
   "cell_type": "code",
   "execution_count": null,
   "id": "fcb63fcf-c9a1-4b3c-b2c1-15d584bb5391",
   "metadata": {},
   "outputs": [
    {
     "name": "stdin",
     "output_type": "stream",
     "text": [
      " test_run\n"
     ]
    },
    {
     "name": "stderr",
     "output_type": "stream",
     "text": [
      "\u001b[32m2025-07-28 15:11:28.224\u001b[0m | \u001b[1mINFO    \u001b[0m | \u001b[36m__main__\u001b[0m:\u001b[36m<module>\u001b[0m:\u001b[36m21\u001b[0m - \u001b[1mPARAMS:\n",
      "\u001b[0m\n",
      "\u001b[32m2025-07-28 15:11:28.226\u001b[0m | \u001b[1mINFO    \u001b[0m | \u001b[36m__main__\u001b[0m:\u001b[36m<module>\u001b[0m:\u001b[36m22\u001b[0m - \u001b[1m{'NR_CHANNELS': 16, 'NR_RECEIVERS': 32, 'NR_BITS': 8, 'NR_POLARIZATIONS': 2, 'NR_PACKETS_FOR_CORRELATION': 16, 'NR_TIME_STEPS_PER_PACKET': 64, 'NR_RECEIVERS_PER_BLOCK': 32, 'NR_BUFFERS': 2, 'NR_CORRELATIONS_BLOCKS_TO_INTEGRATE': 10, 'NR_PACKETS_TOTAL': 50}\u001b[0m\n",
      "\u001b[32m2025-07-28 15:11:28.227\u001b[0m | \u001b[1mINFO    \u001b[0m | \u001b[36mmlflow_save_benchmarks\u001b[0m:\u001b[36mrun_benchmarks_and_save\u001b[0m:\u001b[36m26\u001b[0m - \u001b[1mSetting up MlFlow\u001b[0m\n",
      "\u001b[32m2025-07-28 15:11:28.369\u001b[0m | \u001b[1mINFO    \u001b[0m | \u001b[36mmlflow_save_benchmarks\u001b[0m:\u001b[36mrun_benchmarks_and_save\u001b[0m:\u001b[36m32\u001b[0m - \u001b[1mjob_id: 0467ecc4-5f6b-404d-a188-210a590bc204\u001b[0m\n",
      "\u001b[32m2025-07-28 15:11:28.425\u001b[0m | \u001b[1mINFO    \u001b[0m | \u001b[36mmlflow_save_benchmarks\u001b[0m:\u001b[36mrun_benchmarks_and_save\u001b[0m:\u001b[36m50\u001b[0m - \u001b[1mPARAMS:\n",
      "\u001b[0m\n",
      "\u001b[32m2025-07-28 15:11:28.426\u001b[0m | \u001b[1mINFO    \u001b[0m | \u001b[36mmlflow_save_benchmarks\u001b[0m:\u001b[36mrun_benchmarks_and_save\u001b[0m:\u001b[36m51\u001b[0m - \u001b[1m{'NR_CHANNELS': 16, 'NR_RECEIVERS': 32, 'NR_BITS': 8, 'NR_POLARIZATIONS': 2, 'NR_PACKETS_FOR_CORRELATION': 16, 'NR_TIME_STEPS_PER_PACKET': 64, 'NR_RECEIVERS_PER_BLOCK': 32, 'NR_BUFFERS': 2, 'NR_CORRELATIONS_BLOCKS_TO_INTEGRATE': 10, 'NR_PACKETS_TOTAL': 50, 'GENERATED_INPUT_FILE_NAME': 'input_0467ecc4-5f6b-404d-a188-210a590bc204.pcap', 'REMOTE_PATH': '/home/jsmallwo/projects/cuda-spatial-filtering/build', 'REMOTE_EXEC': './beamform_spatial /home/jsmallwo/projects/cuda-spatial-filtering/build/0467ecc4-5f6b-404d-a188-210a590bc204/input_0467ecc4-5f6b-404d-a188-210a590bc204.pcap benchmarks_0467ecc4-5f6b-404d-a188-210a590bc204.json', 'REMOTE_EXEC_NCU': './beamform_spatial ~/projects/output_10.pcap benchmarks_0467ecc4-5f6b-404d-a188-210a590bc204.json.ncu', 'PROFILE_OUTPUT': 'profile_output_0467ecc4-5f6b-404d-a188-210a590bc204', 'NSYS_PROFILE_OUTPUT': 'nsys_profile_output_0467ecc4-5f6b-404d-a188-210a590bc204', 'JOB_OUTPUT_FILE_NAME': 'output_0467ecc4-5f6b-404d-a188-210a590bc204.txt'}\u001b[0m\n",
      "\u001b[32m2025-07-28 15:11:28.426\u001b[0m | \u001b[1mINFO    \u001b[0m | \u001b[36mmlflow_save_benchmarks\u001b[0m:\u001b[36mrun_benchmarks_and_save\u001b[0m:\u001b[36m53\u001b[0m - \u001b[1mCreating input dataset....\u001b[0m\n"
     ]
    },
    {
     "name": "stdout",
     "output_type": "stream",
     "text": [
      "✅ PCAP file '0467ecc4-5f6b-404d-a188-210a590bc204/input_0467ecc4-5f6b-404d-a188-210a590bc204.pcap' written.\n",
      "building file list ... done\n",
      "created directory /home/jsmallwo/projects/cuda-spatial-filtering/build/0467ecc4-5f6b-404d-a188-210a590bc204\n",
      "input_0467ecc4-5f6b-404d-a188-210a590bc204.pcap\n"
     ]
    },
    {
     "name": "stderr",
     "output_type": "stream",
     "text": [
      "\u001b[32m2025-07-28 15:11:40.949\u001b[0m | \u001b[1mINFO    \u001b[0m | \u001b[36mmlflow_save_benchmarks\u001b[0m:\u001b[36mrun_benchmarks_and_save\u001b[0m:\u001b[36m66\u001b[0m - \u001b[1mCreating slurm script\u001b[0m\n",
      "\u001b[32m2025-07-28 15:11:40.949\u001b[0m | \u001b[1mINFO    \u001b[0m | \u001b[36mmlflow_save_benchmarks\u001b[0m:\u001b[36mrun_benchmarks_and_save\u001b[0m:\u001b[36m84\u001b[0m - \u001b[1mWriting to file\u001b[0m\n",
      "\u001b[32m2025-07-28 15:11:40.952\u001b[0m | \u001b[1mINFO    \u001b[0m | \u001b[36mmlflow_save_benchmarks\u001b[0m:\u001b[36mrun_benchmarks_and_save\u001b[0m:\u001b[36m89\u001b[0m - \u001b[1mSlurm script written to 'submit_job.sh'\u001b[0m\n",
      "\u001b[32m2025-07-28 15:11:40.952\u001b[0m | \u001b[1mINFO    \u001b[0m | \u001b[36mmlflow_save_benchmarks\u001b[0m:\u001b[36mrun_benchmarks_and_save\u001b[0m:\u001b[36m93\u001b[0m - \u001b[1mSyncing slurm script to remote...\u001b[0m\n"
     ]
    },
    {
     "name": "stdout",
     "output_type": "stream",
     "text": [
      "\n",
      "sent 1568053 bytes  received 42 bytes  448027.14 bytes/sec\n",
      "total size is 3372824  speedup is 2.15\n"
     ]
    },
    {
     "name": "stderr",
     "output_type": "stream",
     "text": [
      "\u001b[32m2025-07-28 15:11:43.477\u001b[0m | \u001b[1mINFO    \u001b[0m | \u001b[36mmlflow_save_benchmarks\u001b[0m:\u001b[36mrun_benchmarks_and_save\u001b[0m:\u001b[36m98\u001b[0m - \u001b[1mSubmitting slurm job...\u001b[0m\n"
     ]
    },
    {
     "name": "stdout",
     "output_type": "stream",
     "text": [
      "building file list ... done\n",
      "submit_job.sh\n",
      "\n",
      "sent 630 bytes  received 54 bytes  195.43 bytes/sec\n",
      "total size is 1397  speedup is 2.04\n"
     ]
    },
    {
     "name": "stderr",
     "output_type": "stream",
     "text": [
      "Pseudo-terminal will not be allocated because stdin is not a terminal.\n"
     ]
    },
    {
     "name": "stdout",
     "output_type": "stream",
     "text": [
      "Submitted batch job 2720842\n"
     ]
    }
   ],
   "source": [
    "from loguru import logger\n",
    "from mlflow_save_benchmarks import run_benchmarks_and_save\n",
    "\n",
    "\n",
    "run_description = input()\n",
    "\n",
    "\n",
    "params = {}\n",
    "\n",
    "params['NR_CHANNELS'] = 16\n",
    "params['NR_RECEIVERS'] = 32\n",
    "params['NR_BITS'] = 8\n",
    "params['NR_POLARIZATIONS'] = 2\n",
    "params['NR_PACKETS_FOR_CORRELATION'] = 16\n",
    "params['NR_TIME_STEPS_PER_PACKET'] = 64\n",
    "params['NR_RECEIVERS_PER_BLOCK'] = 32\n",
    "params['NR_BUFFERS'] = 2\n",
    "params['NR_CORRELATIONS_BLOCKS_TO_INTEGRATE'] = 10\n",
    "params['NR_PACKETS_TOTAL'] = 50\n",
    "\n",
    "logger.info(f\"PARAMS:\\n\")\n",
    "logger.info(params)\n",
    "\n",
    "run_benchmarks_and_save(params, run_description)\n",
    "\n",
    "\n"
   ]
  },
  {
   "cell_type": "code",
   "execution_count": null,
   "id": "87aedee5-6fb6-42a4-8643-a6e80e13257d",
   "metadata": {},
   "outputs": [],
   "source": []
  }
 ],
 "metadata": {
  "kernelspec": {
   "display_name": "Python 3 (ipykernel)",
   "language": "python",
   "name": "python3"
  },
  "language_info": {
   "codemirror_mode": {
    "name": "ipython",
    "version": 3
   },
   "file_extension": ".py",
   "mimetype": "text/x-python",
   "name": "python",
   "nbconvert_exporter": "python",
   "pygments_lexer": "ipython3",
   "version": "3.13.5"
  }
 },
 "nbformat": 4,
 "nbformat_minor": 5
}
