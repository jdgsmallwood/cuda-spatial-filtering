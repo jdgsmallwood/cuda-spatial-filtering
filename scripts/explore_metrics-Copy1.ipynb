{
 "cells": [
  {
   "cell_type": "code",
   "execution_count": 1,
   "id": "fcb63fcf-c9a1-4b3c-b2c1-15d584bb5391",
   "metadata": {},
   "outputs": [
    {
     "name": "stdin",
     "output_type": "stream",
     "text": [
      " initial benchmarking\n"
     ]
    },
    {
     "name": "stderr",
     "output_type": "stream",
     "text": [
      "\u001b[32m2025-07-28 16:42:13.926\u001b[0m | \u001b[1mINFO    \u001b[0m | \u001b[36m__main__\u001b[0m:\u001b[36m<module>\u001b[0m:\u001b[36m22\u001b[0m - \u001b[1mPARAMS:\n",
      "\u001b[0m\n",
      "\u001b[32m2025-07-28 16:42:13.928\u001b[0m | \u001b[1mINFO    \u001b[0m | \u001b[36m__main__\u001b[0m:\u001b[36m<module>\u001b[0m:\u001b[36m23\u001b[0m - \u001b[1m{'NR_CHANNELS': 10, 'NR_RECEIVERS': 32, 'NR_BITS': 8, 'NR_POLARIZATIONS': 2, 'NR_PACKETS_FOR_CORRELATION': 16, 'NR_TIME_STEPS_PER_PACKET': 64, 'NR_RECEIVERS_PER_BLOCK': 32, 'NR_BUFFERS': 2, 'NR_CORRELATIONS_BLOCKS_TO_INTEGRATE': 10, 'NR_PACKETS_TOTAL': 5}\u001b[0m\n",
      "\u001b[32m2025-07-28 16:42:13.929\u001b[0m | \u001b[1mINFO    \u001b[0m | \u001b[36mmlflow_save_benchmarks\u001b[0m:\u001b[36mrun_benchmarks_and_save\u001b[0m:\u001b[36m26\u001b[0m - \u001b[1mSetting up MlFlow\u001b[0m\n",
      "2025/07/28 16:42:14 INFO mlflow.tracking.fluent: Experiment with name '2025-xbengine-benchmarks' does not exist. Creating a new experiment.\n",
      "\u001b[32m2025-07-28 16:42:14.066\u001b[0m | \u001b[1mINFO    \u001b[0m | \u001b[36mmlflow_save_benchmarks\u001b[0m:\u001b[36mrun_benchmarks_and_save\u001b[0m:\u001b[36m32\u001b[0m - \u001b[1mjob_id: 103e92ae-33b4-4697-b6ef-c7b463bb7086\u001b[0m\n",
      "\u001b[32m2025-07-28 16:42:14.109\u001b[0m | \u001b[1mINFO    \u001b[0m | \u001b[36mmlflow_save_benchmarks\u001b[0m:\u001b[36mrun_benchmarks_and_save\u001b[0m:\u001b[36m50\u001b[0m - \u001b[1mPARAMS:\n",
      "\u001b[0m\n",
      "\u001b[32m2025-07-28 16:42:14.109\u001b[0m | \u001b[1mINFO    \u001b[0m | \u001b[36mmlflow_save_benchmarks\u001b[0m:\u001b[36mrun_benchmarks_and_save\u001b[0m:\u001b[36m51\u001b[0m - \u001b[1m{'NR_CHANNELS': 10, 'NR_RECEIVERS': 32, 'NR_BITS': 8, 'NR_POLARIZATIONS': 2, 'NR_PACKETS_FOR_CORRELATION': 16, 'NR_TIME_STEPS_PER_PACKET': 64, 'NR_RECEIVERS_PER_BLOCK': 32, 'NR_BUFFERS': 2, 'NR_CORRELATIONS_BLOCKS_TO_INTEGRATE': 10, 'NR_PACKETS_TOTAL': 5, 'GENERATED_INPUT_FILE_NAME': 'input_103e92ae-33b4-4697-b6ef-c7b463bb7086.pcap', 'REMOTE_PATH': '/home/jsmallwo/projects/cuda-spatial-filtering/build', 'REMOTE_EXEC': './beamform_spatial /home/jsmallwo/projects/cuda-spatial-filtering/build/103e92ae-33b4-4697-b6ef-c7b463bb7086/input_103e92ae-33b4-4697-b6ef-c7b463bb7086.pcap benchmarks_103e92ae-33b4-4697-b6ef-c7b463bb7086.json', 'REMOTE_EXEC_NCU': './beamform_spatial ~/projects/output_10.pcap benchmarks_103e92ae-33b4-4697-b6ef-c7b463bb7086.json.ncu', 'PROFILE_OUTPUT': 'profile_output_103e92ae-33b4-4697-b6ef-c7b463bb7086', 'NSYS_PROFILE_OUTPUT': 'nsys_profile_output_103e92ae-33b4-4697-b6ef-c7b463bb7086', 'JOB_OUTPUT_FILE_NAME': 'output_103e92ae-33b4-4697-b6ef-c7b463bb7086.txt'}\u001b[0m\n",
      "\u001b[32m2025-07-28 16:42:14.110\u001b[0m | \u001b[1mINFO    \u001b[0m | \u001b[36mmlflow_save_benchmarks\u001b[0m:\u001b[36mrun_benchmarks_and_save\u001b[0m:\u001b[36m53\u001b[0m - \u001b[1mCreating input dataset....\u001b[0m\n"
     ]
    },
    {
     "name": "stdout",
     "output_type": "stream",
     "text": [
      "✅ PCAP file '103e92ae-33b4-4697-b6ef-c7b463bb7086/input_103e92ae-33b4-4697-b6ef-c7b463bb7086.pcap' written.\n"
     ]
    },
    {
     "name": "stderr",
     "output_type": "stream",
     "text": [
      "\u001b[32m2025-07-28 16:42:18.376\u001b[0m | \u001b[1mINFO    \u001b[0m | \u001b[36mmlflow_save_benchmarks\u001b[0m:\u001b[36mrun_benchmarks_and_save\u001b[0m:\u001b[36m66\u001b[0m - \u001b[1mCreating slurm script\u001b[0m\n",
      "\u001b[32m2025-07-28 16:42:18.377\u001b[0m | \u001b[1mINFO    \u001b[0m | \u001b[36mmlflow_save_benchmarks\u001b[0m:\u001b[36mrun_benchmarks_and_save\u001b[0m:\u001b[36m84\u001b[0m - \u001b[1mWriting to file\u001b[0m\n",
      "\u001b[32m2025-07-28 16:42:18.381\u001b[0m | \u001b[1mINFO    \u001b[0m | \u001b[36mmlflow_save_benchmarks\u001b[0m:\u001b[36mrun_benchmarks_and_save\u001b[0m:\u001b[36m89\u001b[0m - \u001b[1mSlurm script written to 'submit_job.sh'\u001b[0m\n",
      "\u001b[32m2025-07-28 16:42:18.381\u001b[0m | \u001b[1mINFO    \u001b[0m | \u001b[36mmlflow_save_benchmarks\u001b[0m:\u001b[36mrun_benchmarks_and_save\u001b[0m:\u001b[36m93\u001b[0m - \u001b[1mSyncing slurm script to remote...\u001b[0m\n"
     ]
    },
    {
     "name": "stdout",
     "output_type": "stream",
     "text": [
      "building file list ... done\n",
      "created directory /home/jsmallwo/projects/cuda-spatial-filtering/build/103e92ae-33b4-4697-b6ef-c7b463bb7086\n",
      "input_103e92ae-33b4-4697-b6ef-c7b463bb7086.pcap\n",
      "\n",
      "sent 99180 bytes  received 42 bytes  28349.14 bytes/sec\n",
      "total size is 210824  speedup is 2.12\n"
     ]
    },
    {
     "name": "stderr",
     "output_type": "stream",
     "text": [
      "\u001b[32m2025-07-28 16:42:20.788\u001b[0m | \u001b[1mINFO    \u001b[0m | \u001b[36mmlflow_save_benchmarks\u001b[0m:\u001b[36mrun_benchmarks_and_save\u001b[0m:\u001b[36m98\u001b[0m - \u001b[1mSubmitting slurm job...\u001b[0m\n"
     ]
    },
    {
     "name": "stdout",
     "output_type": "stream",
     "text": [
      "building file list ... done\n",
      "submit_job.sh\n",
      "\n",
      "sent 628 bytes  received 54 bytes  272.80 bytes/sec\n",
      "total size is 1397  speedup is 2.05\n"
     ]
    },
    {
     "name": "stderr",
     "output_type": "stream",
     "text": [
      "Pseudo-terminal will not be allocated because stdin is not a terminal.\n"
     ]
    },
    {
     "name": "stdout",
     "output_type": "stream",
     "text": [
      "Submitted batch job 2721968\n"
     ]
    },
    {
     "name": "stderr",
     "output_type": "stream",
     "text": [
      "\u001b[32m2025-07-28 16:44:10.490\u001b[0m | \u001b[1mINFO    \u001b[0m | \u001b[36mmlflow_save_benchmarks\u001b[0m:\u001b[36mrun_benchmarks_and_save\u001b[0m:\u001b[36m104\u001b[0m - \u001b[1mPulling back results...\u001b[0m\n"
     ]
    },
    {
     "name": "stdout",
     "output_type": "stream",
     "text": [
      "receiving file list ... done\n",
      "profile_output_103e92ae-33b4-4697-b6ef-c7b463bb7086.csv\n",
      "\n",
      "sent 38 bytes  received 23282 bytes  6662.86 bytes/sec\n",
      "total size is 344983  speedup is 14.79\n",
      "receiving file list ... done\n",
      "profile_output_103e92ae-33b4-4697-b6ef-c7b463bb7086.ncu-rep\n",
      "\n",
      "sent 38 bytes  received 2363922 bytes  945584.00 bytes/sec\n",
      "total size is 19058460  speedup is 8.06\n",
      "receiving file list ... done\n",
      "nsys_profile_output_103e92ae-33b4-4697-b6ef-c7b463bb7086.nsys-rep\n",
      "\n",
      "sent 38 bytes  received 336519 bytes  96159.14 bytes/sec\n",
      "total size is 782084  speedup is 2.32\n",
      "receiving file list ... done\n",
      "output_103e92ae-33b4-4697-b6ef-c7b463bb7086.txt\n",
      "\n",
      "sent 38 bytes  received 8347 bytes  3354.00 bytes/sec\n",
      "total size is 77339  speedup is 9.22\n"
     ]
    },
    {
     "name": "stderr",
     "output_type": "stream",
     "text": [
      "\u001b[32m2025-07-28 16:44:23.178\u001b[0m | \u001b[1mINFO    \u001b[0m | \u001b[36mmlflow_save_benchmarks\u001b[0m:\u001b[36mrun_benchmarks_and_save\u001b[0m:\u001b[36m155\u001b[0m - \u001b[1mStarting MLFlow run...\u001b[0m\n"
     ]
    },
    {
     "name": "stdout",
     "output_type": "stream",
     "text": [
      "receiving file list ... done\n",
      "benchmarks_103e92ae-33b4-4697-b6ef-c7b463bb7086.json\n",
      "\n",
      "sent 38 bytes  received 305 bytes  98.00 bytes/sec\n",
      "total size is 212  speedup is 0.62\n"
     ]
    },
    {
     "name": "stderr",
     "output_type": "stream",
     "text": [
      "\u001b[32m2025-07-28 16:44:23.773\u001b[0m | \u001b[1mINFO    \u001b[0m | \u001b[36mmlflow_save_benchmarks\u001b[0m:\u001b[36mrun_benchmarks_and_save\u001b[0m:\u001b[36m166\u001b[0m - \u001b[1mLogging parameters...\u001b[0m\n",
      "\u001b[32m2025-07-28 16:44:23.808\u001b[0m | \u001b[1mINFO    \u001b[0m | \u001b[36mmlflow_save_benchmarks\u001b[0m:\u001b[36mrun_benchmarks_and_save\u001b[0m:\u001b[36m173\u001b[0m - \u001b[1mLogging metrics...\u001b[0m\n",
      "\u001b[32m2025-07-28 16:44:23.942\u001b[0m | \u001b[1mINFO    \u001b[0m | \u001b[36mmlflow_save_benchmarks\u001b[0m:\u001b[36mrun_benchmarks_and_save\u001b[0m:\u001b[36m187\u001b[0m - \u001b[1m✅ MLflow run completed: 9e247ab4703240dba2bf164f8d58c6fc\u001b[0m\n",
      "\u001b[32m2025-07-28 16:44:23.951\u001b[0m | \u001b[1mINFO    \u001b[0m | \u001b[36mmlflow_save_benchmarks\u001b[0m:\u001b[36mrun_benchmarks_and_save\u001b[0m:\u001b[36m189\u001b[0m - \u001b[1mCleaning up....\u001b[0m\n"
     ]
    },
    {
     "name": "stdout",
     "output_type": "stream",
     "text": [
      "🏃 View run salty-dog-241 at: http://localhost:5000/#/experiments/113793986851212354/runs/9e247ab4703240dba2bf164f8d58c6fc\n",
      "🧪 View experiment at: http://localhost:5000/#/experiments/113793986851212354\n"
     ]
    },
    {
     "name": "stderr",
     "output_type": "stream",
     "text": [
      "\u001b[32m2025-07-28 16:44:26.324\u001b[0m | \u001b[1mINFO    \u001b[0m | \u001b[36m__main__\u001b[0m:\u001b[36m<module>\u001b[0m:\u001b[36m22\u001b[0m - \u001b[1mPARAMS:\n",
      "\u001b[0m\n",
      "\u001b[32m2025-07-28 16:44:26.326\u001b[0m | \u001b[1mINFO    \u001b[0m | \u001b[36m__main__\u001b[0m:\u001b[36m<module>\u001b[0m:\u001b[36m23\u001b[0m - \u001b[1m{'NR_CHANNELS': 10, 'NR_RECEIVERS': 32, 'NR_BITS': 8, 'NR_POLARIZATIONS': 2, 'NR_PACKETS_FOR_CORRELATION': 16, 'NR_TIME_STEPS_PER_PACKET': 64, 'NR_RECEIVERS_PER_BLOCK': 32, 'NR_BUFFERS': 2, 'NR_CORRELATIONS_BLOCKS_TO_INTEGRATE': 10, 'NR_PACKETS_TOTAL': 50}\u001b[0m\n",
      "\u001b[32m2025-07-28 16:44:26.327\u001b[0m | \u001b[1mINFO    \u001b[0m | \u001b[36mmlflow_save_benchmarks\u001b[0m:\u001b[36mrun_benchmarks_and_save\u001b[0m:\u001b[36m26\u001b[0m - \u001b[1mSetting up MlFlow\u001b[0m\n",
      "\u001b[32m2025-07-28 16:44:26.352\u001b[0m | \u001b[1mINFO    \u001b[0m | \u001b[36mmlflow_save_benchmarks\u001b[0m:\u001b[36mrun_benchmarks_and_save\u001b[0m:\u001b[36m32\u001b[0m - \u001b[1mjob_id: e517cd42-8c36-4eb9-91a1-515522f43c0f\u001b[0m\n",
      "\u001b[32m2025-07-28 16:44:26.387\u001b[0m | \u001b[1mINFO    \u001b[0m | \u001b[36mmlflow_save_benchmarks\u001b[0m:\u001b[36mrun_benchmarks_and_save\u001b[0m:\u001b[36m50\u001b[0m - \u001b[1mPARAMS:\n",
      "\u001b[0m\n",
      "\u001b[32m2025-07-28 16:44:26.388\u001b[0m | \u001b[1mINFO    \u001b[0m | \u001b[36mmlflow_save_benchmarks\u001b[0m:\u001b[36mrun_benchmarks_and_save\u001b[0m:\u001b[36m51\u001b[0m - \u001b[1m{'NR_CHANNELS': 10, 'NR_RECEIVERS': 32, 'NR_BITS': 8, 'NR_POLARIZATIONS': 2, 'NR_PACKETS_FOR_CORRELATION': 16, 'NR_TIME_STEPS_PER_PACKET': 64, 'NR_RECEIVERS_PER_BLOCK': 32, 'NR_BUFFERS': 2, 'NR_CORRELATIONS_BLOCKS_TO_INTEGRATE': 10, 'NR_PACKETS_TOTAL': 50, 'GENERATED_INPUT_FILE_NAME': 'input_e517cd42-8c36-4eb9-91a1-515522f43c0f.pcap', 'REMOTE_PATH': '/home/jsmallwo/projects/cuda-spatial-filtering/build', 'REMOTE_EXEC': './beamform_spatial /home/jsmallwo/projects/cuda-spatial-filtering/build/e517cd42-8c36-4eb9-91a1-515522f43c0f/input_e517cd42-8c36-4eb9-91a1-515522f43c0f.pcap benchmarks_e517cd42-8c36-4eb9-91a1-515522f43c0f.json', 'REMOTE_EXEC_NCU': './beamform_spatial ~/projects/output_10.pcap benchmarks_e517cd42-8c36-4eb9-91a1-515522f43c0f.json.ncu', 'PROFILE_OUTPUT': 'profile_output_e517cd42-8c36-4eb9-91a1-515522f43c0f', 'NSYS_PROFILE_OUTPUT': 'nsys_profile_output_e517cd42-8c36-4eb9-91a1-515522f43c0f', 'JOB_OUTPUT_FILE_NAME': 'output_e517cd42-8c36-4eb9-91a1-515522f43c0f.txt'}\u001b[0m\n",
      "\u001b[32m2025-07-28 16:44:26.388\u001b[0m | \u001b[1mINFO    \u001b[0m | \u001b[36mmlflow_save_benchmarks\u001b[0m:\u001b[36mrun_benchmarks_and_save\u001b[0m:\u001b[36m53\u001b[0m - \u001b[1mCreating input dataset....\u001b[0m\n"
     ]
    },
    {
     "name": "stdout",
     "output_type": "stream",
     "text": [
      "✅ PCAP file 'e517cd42-8c36-4eb9-91a1-515522f43c0f/input_e517cd42-8c36-4eb9-91a1-515522f43c0f.pcap' written.\n",
      "building file list ... done\n",
      "created directory /home/jsmallwo/projects/cuda-spatial-filtering/build/e517cd42-8c36-4eb9-91a1-515522f43c0f\n",
      "input_e517cd42-8c36-4eb9-91a1-515522f43c0f.pcap\n"
     ]
    },
    {
     "name": "stderr",
     "output_type": "stream",
     "text": [
      "\u001b[32m2025-07-28 16:44:34.911\u001b[0m | \u001b[1mINFO    \u001b[0m | \u001b[36mmlflow_save_benchmarks\u001b[0m:\u001b[36mrun_benchmarks_and_save\u001b[0m:\u001b[36m66\u001b[0m - \u001b[1mCreating slurm script\u001b[0m\n",
      "\u001b[32m2025-07-28 16:44:34.912\u001b[0m | \u001b[1mINFO    \u001b[0m | \u001b[36mmlflow_save_benchmarks\u001b[0m:\u001b[36mrun_benchmarks_and_save\u001b[0m:\u001b[36m84\u001b[0m - \u001b[1mWriting to file\u001b[0m\n",
      "\u001b[32m2025-07-28 16:44:34.913\u001b[0m | \u001b[1mINFO    \u001b[0m | \u001b[36mmlflow_save_benchmarks\u001b[0m:\u001b[36mrun_benchmarks_and_save\u001b[0m:\u001b[36m89\u001b[0m - \u001b[1mSlurm script written to 'submit_job.sh'\u001b[0m\n",
      "\u001b[32m2025-07-28 16:44:34.913\u001b[0m | \u001b[1mINFO    \u001b[0m | \u001b[36mmlflow_save_benchmarks\u001b[0m:\u001b[36mrun_benchmarks_and_save\u001b[0m:\u001b[36m93\u001b[0m - \u001b[1mSyncing slurm script to remote...\u001b[0m\n"
     ]
    },
    {
     "name": "stdout",
     "output_type": "stream",
     "text": [
      "\n",
      "sent 981913 bytes  received 42 bytes  392782.00 bytes/sec\n",
      "total size is 2108024  speedup is 2.15\n"
     ]
    },
    {
     "name": "stderr",
     "output_type": "stream",
     "text": [
      "\u001b[32m2025-07-28 16:44:37.322\u001b[0m | \u001b[1mINFO    \u001b[0m | \u001b[36mmlflow_save_benchmarks\u001b[0m:\u001b[36mrun_benchmarks_and_save\u001b[0m:\u001b[36m98\u001b[0m - \u001b[1mSubmitting slurm job...\u001b[0m\n"
     ]
    },
    {
     "name": "stdout",
     "output_type": "stream",
     "text": [
      "building file list ... done\n",
      "submit_job.sh\n",
      "\n",
      "sent 629 bytes  received 54 bytes  195.14 bytes/sec\n",
      "total size is 1397  speedup is 2.05\n"
     ]
    },
    {
     "name": "stderr",
     "output_type": "stream",
     "text": [
      "Pseudo-terminal will not be allocated because stdin is not a terminal.\n"
     ]
    },
    {
     "name": "stdout",
     "output_type": "stream",
     "text": [
      "Submitted batch job 2722265\n"
     ]
    },
    {
     "name": "stderr",
     "output_type": "stream",
     "text": [
      "\u001b[32m2025-07-28 16:46:57.689\u001b[0m | \u001b[1mINFO    \u001b[0m | \u001b[36mmlflow_save_benchmarks\u001b[0m:\u001b[36mrun_benchmarks_and_save\u001b[0m:\u001b[36m104\u001b[0m - \u001b[1mPulling back results...\u001b[0m\n"
     ]
    },
    {
     "name": "stdout",
     "output_type": "stream",
     "text": [
      "receiving file list ... done\n",
      "profile_output_e517cd42-8c36-4eb9-91a1-515522f43c0f.csv\n",
      "\n",
      "sent 38 bytes  received 23560 bytes  6742.29 bytes/sec\n",
      "total size is 345234  speedup is 14.63\n",
      "receiving file list ... done\n",
      "profile_output_e517cd42-8c36-4eb9-91a1-515522f43c0f.ncu-rep\n",
      "\n",
      "sent 38 bytes  received 2363417 bytes  675272.86 bytes/sec\n",
      "total size is 19049991  speedup is 8.06\n",
      "receiving file list ... done\n",
      "nsys_profile_output_e517cd42-8c36-4eb9-91a1-515522f43c0f.nsys-rep\n",
      "\n",
      "sent 38 bytes  received 342563 bytes  137040.40 bytes/sec\n",
      "total size is 792304  speedup is 2.31\n",
      "receiving file list ... done\n",
      "output_e517cd42-8c36-4eb9-91a1-515522f43c0f.txt\n",
      "\n",
      "sent 38 bytes  received 12893 bytes  5172.40 bytes/sec\n",
      "total size is 187940  speedup is 14.53\n"
     ]
    },
    {
     "name": "stderr",
     "output_type": "stream",
     "text": [
      "\u001b[32m2025-07-28 16:47:10.415\u001b[0m | \u001b[1mINFO    \u001b[0m | \u001b[36mmlflow_save_benchmarks\u001b[0m:\u001b[36mrun_benchmarks_and_save\u001b[0m:\u001b[36m155\u001b[0m - \u001b[1mStarting MLFlow run...\u001b[0m\n",
      "\u001b[32m2025-07-28 16:47:10.516\u001b[0m | \u001b[1mINFO    \u001b[0m | \u001b[36mmlflow_save_benchmarks\u001b[0m:\u001b[36mrun_benchmarks_and_save\u001b[0m:\u001b[36m166\u001b[0m - \u001b[1mLogging parameters...\u001b[0m\n",
      "\u001b[32m2025-07-28 16:47:10.570\u001b[0m | \u001b[1mINFO    \u001b[0m | \u001b[36mmlflow_save_benchmarks\u001b[0m:\u001b[36mrun_benchmarks_and_save\u001b[0m:\u001b[36m173\u001b[0m - \u001b[1mLogging metrics...\u001b[0m\n"
     ]
    },
    {
     "name": "stdout",
     "output_type": "stream",
     "text": [
      "receiving file list ... done\n",
      "benchmarks_e517cd42-8c36-4eb9-91a1-515522f43c0f.json\n",
      "\n",
      "sent 38 bytes  received 304 bytes  97.71 bytes/sec\n",
      "total size is 215  speedup is 0.63\n"
     ]
    },
    {
     "name": "stderr",
     "output_type": "stream",
     "text": [
      "\u001b[32m2025-07-28 16:47:10.740\u001b[0m | \u001b[1mINFO    \u001b[0m | \u001b[36mmlflow_save_benchmarks\u001b[0m:\u001b[36mrun_benchmarks_and_save\u001b[0m:\u001b[36m187\u001b[0m - \u001b[1m✅ MLflow run completed: 39e66164193e488d8b38ccd3ee2b2d45\u001b[0m\n",
      "\u001b[32m2025-07-28 16:47:10.750\u001b[0m | \u001b[1mINFO    \u001b[0m | \u001b[36mmlflow_save_benchmarks\u001b[0m:\u001b[36mrun_benchmarks_and_save\u001b[0m:\u001b[36m189\u001b[0m - \u001b[1mCleaning up....\u001b[0m\n"
     ]
    },
    {
     "name": "stdout",
     "output_type": "stream",
     "text": [
      "🏃 View run dapper-shrike-633 at: http://localhost:5000/#/experiments/113793986851212354/runs/39e66164193e488d8b38ccd3ee2b2d45\n",
      "🧪 View experiment at: http://localhost:5000/#/experiments/113793986851212354\n"
     ]
    },
    {
     "name": "stderr",
     "output_type": "stream",
     "text": [
      "\u001b[32m2025-07-28 16:47:13.202\u001b[0m | \u001b[1mINFO    \u001b[0m | \u001b[36m__main__\u001b[0m:\u001b[36m<module>\u001b[0m:\u001b[36m22\u001b[0m - \u001b[1mPARAMS:\n",
      "\u001b[0m\n",
      "\u001b[32m2025-07-28 16:47:13.203\u001b[0m | \u001b[1mINFO    \u001b[0m | \u001b[36m__main__\u001b[0m:\u001b[36m<module>\u001b[0m:\u001b[36m23\u001b[0m - \u001b[1m{'NR_CHANNELS': 10, 'NR_RECEIVERS': 32, 'NR_BITS': 8, 'NR_POLARIZATIONS': 2, 'NR_PACKETS_FOR_CORRELATION': 16, 'NR_TIME_STEPS_PER_PACKET': 64, 'NR_RECEIVERS_PER_BLOCK': 32, 'NR_BUFFERS': 2, 'NR_CORRELATIONS_BLOCKS_TO_INTEGRATE': 10, 'NR_PACKETS_TOTAL': 500}\u001b[0m\n",
      "\u001b[32m2025-07-28 16:47:13.204\u001b[0m | \u001b[1mINFO    \u001b[0m | \u001b[36mmlflow_save_benchmarks\u001b[0m:\u001b[36mrun_benchmarks_and_save\u001b[0m:\u001b[36m26\u001b[0m - \u001b[1mSetting up MlFlow\u001b[0m\n",
      "\u001b[32m2025-07-28 16:47:13.267\u001b[0m | \u001b[1mINFO    \u001b[0m | \u001b[36mmlflow_save_benchmarks\u001b[0m:\u001b[36mrun_benchmarks_and_save\u001b[0m:\u001b[36m32\u001b[0m - \u001b[1mjob_id: 38100492-83e8-4e70-a43d-e6a5b6ff17aa\u001b[0m\n",
      "\u001b[32m2025-07-28 16:47:13.330\u001b[0m | \u001b[1mINFO    \u001b[0m | \u001b[36mmlflow_save_benchmarks\u001b[0m:\u001b[36mrun_benchmarks_and_save\u001b[0m:\u001b[36m50\u001b[0m - \u001b[1mPARAMS:\n",
      "\u001b[0m\n",
      "\u001b[32m2025-07-28 16:47:13.331\u001b[0m | \u001b[1mINFO    \u001b[0m | \u001b[36mmlflow_save_benchmarks\u001b[0m:\u001b[36mrun_benchmarks_and_save\u001b[0m:\u001b[36m51\u001b[0m - \u001b[1m{'NR_CHANNELS': 10, 'NR_RECEIVERS': 32, 'NR_BITS': 8, 'NR_POLARIZATIONS': 2, 'NR_PACKETS_FOR_CORRELATION': 16, 'NR_TIME_STEPS_PER_PACKET': 64, 'NR_RECEIVERS_PER_BLOCK': 32, 'NR_BUFFERS': 2, 'NR_CORRELATIONS_BLOCKS_TO_INTEGRATE': 10, 'NR_PACKETS_TOTAL': 500, 'GENERATED_INPUT_FILE_NAME': 'input_38100492-83e8-4e70-a43d-e6a5b6ff17aa.pcap', 'REMOTE_PATH': '/home/jsmallwo/projects/cuda-spatial-filtering/build', 'REMOTE_EXEC': './beamform_spatial /home/jsmallwo/projects/cuda-spatial-filtering/build/38100492-83e8-4e70-a43d-e6a5b6ff17aa/input_38100492-83e8-4e70-a43d-e6a5b6ff17aa.pcap benchmarks_38100492-83e8-4e70-a43d-e6a5b6ff17aa.json', 'REMOTE_EXEC_NCU': './beamform_spatial ~/projects/output_10.pcap benchmarks_38100492-83e8-4e70-a43d-e6a5b6ff17aa.json.ncu', 'PROFILE_OUTPUT': 'profile_output_38100492-83e8-4e70-a43d-e6a5b6ff17aa', 'NSYS_PROFILE_OUTPUT': 'nsys_profile_output_38100492-83e8-4e70-a43d-e6a5b6ff17aa', 'JOB_OUTPUT_FILE_NAME': 'output_38100492-83e8-4e70-a43d-e6a5b6ff17aa.txt'}\u001b[0m\n",
      "\u001b[32m2025-07-28 16:47:13.331\u001b[0m | \u001b[1mINFO    \u001b[0m | \u001b[36mmlflow_save_benchmarks\u001b[0m:\u001b[36mrun_benchmarks_and_save\u001b[0m:\u001b[36m53\u001b[0m - \u001b[1mCreating input dataset....\u001b[0m\n"
     ]
    },
    {
     "name": "stdout",
     "output_type": "stream",
     "text": [
      "✅ PCAP file '38100492-83e8-4e70-a43d-e6a5b6ff17aa/input_38100492-83e8-4e70-a43d-e6a5b6ff17aa.pcap' written.\n",
      "building file list ... done\n",
      "created directory /home/jsmallwo/projects/cuda-spatial-filtering/build/38100492-83e8-4e70-a43d-e6a5b6ff17aa\n",
      "input_38100492-83e8-4e70-a43d-e6a5b6ff17aa.pcap\n"
     ]
    },
    {
     "name": "stderr",
     "output_type": "stream",
     "text": [
      "\u001b[32m2025-07-28 16:48:19.211\u001b[0m | \u001b[1mINFO    \u001b[0m | \u001b[36mmlflow_save_benchmarks\u001b[0m:\u001b[36mrun_benchmarks_and_save\u001b[0m:\u001b[36m66\u001b[0m - \u001b[1mCreating slurm script\u001b[0m\n",
      "\u001b[32m2025-07-28 16:48:19.213\u001b[0m | \u001b[1mINFO    \u001b[0m | \u001b[36mmlflow_save_benchmarks\u001b[0m:\u001b[36mrun_benchmarks_and_save\u001b[0m:\u001b[36m84\u001b[0m - \u001b[1mWriting to file\u001b[0m\n",
      "\u001b[32m2025-07-28 16:48:19.226\u001b[0m | \u001b[1mINFO    \u001b[0m | \u001b[36mmlflow_save_benchmarks\u001b[0m:\u001b[36mrun_benchmarks_and_save\u001b[0m:\u001b[36m89\u001b[0m - \u001b[1mSlurm script written to 'submit_job.sh'\u001b[0m\n",
      "\u001b[32m2025-07-28 16:48:19.227\u001b[0m | \u001b[1mINFO    \u001b[0m | \u001b[36mmlflow_save_benchmarks\u001b[0m:\u001b[36mrun_benchmarks_and_save\u001b[0m:\u001b[36m93\u001b[0m - \u001b[1mSyncing slurm script to remote...\u001b[0m\n"
     ]
    },
    {
     "name": "stdout",
     "output_type": "stream",
     "text": [
      "\n",
      "sent 9805765 bytes  received 42 bytes  1782874.00 bytes/sec\n",
      "total size is 21080024  speedup is 2.15\n"
     ]
    },
    {
     "name": "stderr",
     "output_type": "stream",
     "text": [
      "\u001b[32m2025-07-28 16:48:21.649\u001b[0m | \u001b[1mINFO    \u001b[0m | \u001b[36mmlflow_save_benchmarks\u001b[0m:\u001b[36mrun_benchmarks_and_save\u001b[0m:\u001b[36m98\u001b[0m - \u001b[1mSubmitting slurm job...\u001b[0m\n"
     ]
    },
    {
     "name": "stdout",
     "output_type": "stream",
     "text": [
      "building file list ... done\n",
      "submit_job.sh\n",
      "\n",
      "sent 629 bytes  received 54 bytes  273.20 bytes/sec\n",
      "total size is 1397  speedup is 2.05\n"
     ]
    },
    {
     "name": "stderr",
     "output_type": "stream",
     "text": [
      "Pseudo-terminal will not be allocated because stdin is not a terminal.\n"
     ]
    },
    {
     "name": "stdout",
     "output_type": "stream",
     "text": [
      "Submitted batch job 2722326\n"
     ]
    },
    {
     "ename": "KeyboardInterrupt",
     "evalue": "",
     "output_type": "error",
     "traceback": [
      "\u001b[31m---------------------------------------------------------------------------\u001b[39m",
      "\u001b[31mKeyboardInterrupt\u001b[39m                         Traceback (most recent call last)",
      "\u001b[36mCell\u001b[39m\u001b[36m \u001b[39m\u001b[32mIn[1]\u001b[39m\u001b[32m, line 25\u001b[39m\n\u001b[32m     22\u001b[39m logger.info(\u001b[33mf\u001b[39m\u001b[33m\"\u001b[39m\u001b[33mPARAMS:\u001b[39m\u001b[38;5;130;01m\\n\u001b[39;00m\u001b[33m\"\u001b[39m)\n\u001b[32m     23\u001b[39m logger.info(params)\n\u001b[32m---> \u001b[39m\u001b[32m25\u001b[39m \u001b[43mrun_benchmarks_and_save\u001b[49m\u001b[43m(\u001b[49m\u001b[43mparams\u001b[49m\u001b[43m,\u001b[49m\u001b[43m \u001b[49m\u001b[43mrun_description\u001b[49m\u001b[43m)\u001b[49m\n",
      "\u001b[36mFile \u001b[39m\u001b[32m~/Documents/projects/cuda-spatial-filtering/scripts/mlflow_save_benchmarks.py:99\u001b[39m, in \u001b[36mrun_benchmarks_and_save\u001b[39m\u001b[34m(params, run_description)\u001b[39m\n\u001b[32m     97\u001b[39m     subprocess.run([\"rsync\", \"-avz\", SLURM_FILE_NAME, f\"{REMOTE_HOST}:{params['REMOTE_PATH']}\"])\n\u001b[32m     98\u001b[39m \n\u001b[32m---> \u001b[39m\u001b[32m99\u001b[39m \n\u001b[32m    100\u001b[39m # === Step 7: Compile and profile remotely ===\n\u001b[32m    101\u001b[39m logger.info(\"Submitting slurm job...\")\n",
      "\u001b[36mFile \u001b[39m\u001b[32m/opt/homebrew/Cellar/python@3.13/3.13.5/Frameworks/Python.framework/Versions/3.13/lib/python3.13/subprocess.py:556\u001b[39m, in \u001b[36mrun\u001b[39m\u001b[34m(input, capture_output, timeout, check, *popenargs, **kwargs)\u001b[39m\n\u001b[32m    554\u001b[39m \u001b[38;5;28;01mwith\u001b[39;00m Popen(*popenargs, **kwargs) \u001b[38;5;28;01mas\u001b[39;00m process:\n\u001b[32m    555\u001b[39m     \u001b[38;5;28;01mtry\u001b[39;00m:\n\u001b[32m--> \u001b[39m\u001b[32m556\u001b[39m         stdout, stderr = \u001b[43mprocess\u001b[49m\u001b[43m.\u001b[49m\u001b[43mcommunicate\u001b[49m\u001b[43m(\u001b[49m\u001b[38;5;28;43minput\u001b[39;49m\u001b[43m,\u001b[49m\u001b[43m \u001b[49m\u001b[43mtimeout\u001b[49m\u001b[43m=\u001b[49m\u001b[43mtimeout\u001b[49m\u001b[43m)\u001b[49m\n\u001b[32m    557\u001b[39m     \u001b[38;5;28;01mexcept\u001b[39;00m TimeoutExpired \u001b[38;5;28;01mas\u001b[39;00m exc:\n\u001b[32m    558\u001b[39m         process.kill()\n",
      "\u001b[36mFile \u001b[39m\u001b[32m/opt/homebrew/Cellar/python@3.13/3.13.5/Frameworks/Python.framework/Versions/3.13/lib/python3.13/subprocess.py:1214\u001b[39m, in \u001b[36mPopen.communicate\u001b[39m\u001b[34m(self, input, timeout)\u001b[39m\n\u001b[32m   1212\u001b[39m         stderr = \u001b[38;5;28mself\u001b[39m.stderr.read()\n\u001b[32m   1213\u001b[39m         \u001b[38;5;28mself\u001b[39m.stderr.close()\n\u001b[32m-> \u001b[39m\u001b[32m1214\u001b[39m     \u001b[38;5;28;43mself\u001b[39;49m\u001b[43m.\u001b[49m\u001b[43mwait\u001b[49m\u001b[43m(\u001b[49m\u001b[43m)\u001b[49m\n\u001b[32m   1215\u001b[39m \u001b[38;5;28;01melse\u001b[39;00m:\n\u001b[32m   1216\u001b[39m     \u001b[38;5;28;01mif\u001b[39;00m timeout \u001b[38;5;129;01mis\u001b[39;00m \u001b[38;5;129;01mnot\u001b[39;00m \u001b[38;5;28;01mNone\u001b[39;00m:\n",
      "\u001b[36mFile \u001b[39m\u001b[32m/opt/homebrew/Cellar/python@3.13/3.13.5/Frameworks/Python.framework/Versions/3.13/lib/python3.13/subprocess.py:1280\u001b[39m, in \u001b[36mPopen.wait\u001b[39m\u001b[34m(self, timeout)\u001b[39m\n\u001b[32m   1278\u001b[39m     endtime = _time() + timeout\n\u001b[32m   1279\u001b[39m \u001b[38;5;28;01mtry\u001b[39;00m:\n\u001b[32m-> \u001b[39m\u001b[32m1280\u001b[39m     \u001b[38;5;28;01mreturn\u001b[39;00m \u001b[38;5;28;43mself\u001b[39;49m\u001b[43m.\u001b[49m\u001b[43m_wait\u001b[49m\u001b[43m(\u001b[49m\u001b[43mtimeout\u001b[49m\u001b[43m=\u001b[49m\u001b[43mtimeout\u001b[49m\u001b[43m)\u001b[49m\n\u001b[32m   1281\u001b[39m \u001b[38;5;28;01mexcept\u001b[39;00m \u001b[38;5;167;01mKeyboardInterrupt\u001b[39;00m:\n\u001b[32m   1282\u001b[39m     \u001b[38;5;66;03m# https://bugs.python.org/issue25942\u001b[39;00m\n\u001b[32m   1283\u001b[39m     \u001b[38;5;66;03m# The first keyboard interrupt waits briefly for the child to\u001b[39;00m\n\u001b[32m   1284\u001b[39m     \u001b[38;5;66;03m# exit under the common assumption that it also received the ^C\u001b[39;00m\n\u001b[32m   1285\u001b[39m     \u001b[38;5;66;03m# generated SIGINT and will exit rapidly.\u001b[39;00m\n\u001b[32m   1286\u001b[39m     \u001b[38;5;28;01mif\u001b[39;00m timeout \u001b[38;5;129;01mis\u001b[39;00m \u001b[38;5;129;01mnot\u001b[39;00m \u001b[38;5;28;01mNone\u001b[39;00m:\n",
      "\u001b[36mFile \u001b[39m\u001b[32m/opt/homebrew/Cellar/python@3.13/3.13.5/Frameworks/Python.framework/Versions/3.13/lib/python3.13/subprocess.py:2066\u001b[39m, in \u001b[36mPopen._wait\u001b[39m\u001b[34m(self, timeout)\u001b[39m\n\u001b[32m   2064\u001b[39m \u001b[38;5;28;01mif\u001b[39;00m \u001b[38;5;28mself\u001b[39m.returncode \u001b[38;5;129;01mis\u001b[39;00m \u001b[38;5;129;01mnot\u001b[39;00m \u001b[38;5;28;01mNone\u001b[39;00m:\n\u001b[32m   2065\u001b[39m     \u001b[38;5;28;01mbreak\u001b[39;00m  \u001b[38;5;66;03m# Another thread waited.\u001b[39;00m\n\u001b[32m-> \u001b[39m\u001b[32m2066\u001b[39m (pid, sts) = \u001b[38;5;28;43mself\u001b[39;49m\u001b[43m.\u001b[49m\u001b[43m_try_wait\u001b[49m\u001b[43m(\u001b[49m\u001b[32;43m0\u001b[39;49m\u001b[43m)\u001b[49m\n\u001b[32m   2067\u001b[39m \u001b[38;5;66;03m# Check the pid and loop as waitpid has been known to\u001b[39;00m\n\u001b[32m   2068\u001b[39m \u001b[38;5;66;03m# return 0 even without WNOHANG in odd situations.\u001b[39;00m\n\u001b[32m   2069\u001b[39m \u001b[38;5;66;03m# http://bugs.python.org/issue14396.\u001b[39;00m\n\u001b[32m   2070\u001b[39m \u001b[38;5;28;01mif\u001b[39;00m pid == \u001b[38;5;28mself\u001b[39m.pid:\n",
      "\u001b[36mFile \u001b[39m\u001b[32m/opt/homebrew/Cellar/python@3.13/3.13.5/Frameworks/Python.framework/Versions/3.13/lib/python3.13/subprocess.py:2024\u001b[39m, in \u001b[36mPopen._try_wait\u001b[39m\u001b[34m(self, wait_flags)\u001b[39m\n\u001b[32m   2022\u001b[39m \u001b[38;5;250m\u001b[39m\u001b[33;03m\"\"\"All callers to this function MUST hold self._waitpid_lock.\"\"\"\u001b[39;00m\n\u001b[32m   2023\u001b[39m \u001b[38;5;28;01mtry\u001b[39;00m:\n\u001b[32m-> \u001b[39m\u001b[32m2024\u001b[39m     (pid, sts) = \u001b[43mos\u001b[49m\u001b[43m.\u001b[49m\u001b[43mwaitpid\u001b[49m\u001b[43m(\u001b[49m\u001b[38;5;28;43mself\u001b[39;49m\u001b[43m.\u001b[49m\u001b[43mpid\u001b[49m\u001b[43m,\u001b[49m\u001b[43m \u001b[49m\u001b[43mwait_flags\u001b[49m\u001b[43m)\u001b[49m\n\u001b[32m   2025\u001b[39m \u001b[38;5;28;01mexcept\u001b[39;00m \u001b[38;5;167;01mChildProcessError\u001b[39;00m:\n\u001b[32m   2026\u001b[39m     \u001b[38;5;66;03m# This happens if SIGCLD is set to be ignored or waiting\u001b[39;00m\n\u001b[32m   2027\u001b[39m     \u001b[38;5;66;03m# for child processes has otherwise been disabled for our\u001b[39;00m\n\u001b[32m   2028\u001b[39m     \u001b[38;5;66;03m# process.  This child is dead, we can't get the status.\u001b[39;00m\n\u001b[32m   2029\u001b[39m     pid = \u001b[38;5;28mself\u001b[39m.pid\n",
      "\u001b[31mKeyboardInterrupt\u001b[39m: "
     ]
    }
   ],
   "source": [
    "from loguru import logger\n",
    "from mlflow_save_benchmarks import run_benchmarks_and_save\n",
    "\n",
    "\n",
    "run_description = input()\n",
    "\n",
    "for channels in [10,20,30,40,50,60,100,200,400,1000]:\n",
    "    for packets in [5, 50, 500, 5000, 50000]:\n",
    "        params = {}\n",
    "        \n",
    "        params['NR_CHANNELS'] = channels\n",
    "        params['NR_RECEIVERS'] = 32\n",
    "        params['NR_BITS'] = 8\n",
    "        params['NR_POLARIZATIONS'] = 2\n",
    "        params['NR_PACKETS_FOR_CORRELATION'] = 16\n",
    "        params['NR_TIME_STEPS_PER_PACKET'] = 64\n",
    "        params['NR_RECEIVERS_PER_BLOCK'] = 32\n",
    "        params['NR_BUFFERS'] = 2\n",
    "        params['NR_CORRELATIONS_BLOCKS_TO_INTEGRATE'] = 10\n",
    "        params['NR_PACKETS_TOTAL'] = packets\n",
    "        \n",
    "        logger.info(f\"PARAMS:\\n\")\n",
    "        logger.info(params)\n",
    "        \n",
    "        run_benchmarks_and_save(params, run_description)\n",
    "\n",
    "\n"
   ]
  },
  {
   "cell_type": "code",
   "execution_count": null,
   "id": "87aedee5-6fb6-42a4-8643-a6e80e13257d",
   "metadata": {},
   "outputs": [],
   "source": []
  }
 ],
 "metadata": {
  "kernelspec": {
   "display_name": "Python 3 (ipykernel)",
   "language": "python",
   "name": "python3"
  },
  "language_info": {
   "codemirror_mode": {
    "name": "ipython",
    "version": 3
   },
   "file_extension": ".py",
   "mimetype": "text/x-python",
   "name": "python",
   "nbconvert_exporter": "python",
   "pygments_lexer": "ipython3",
   "version": "3.13.5"
  }
 },
 "nbformat": 4,
 "nbformat_minor": 5
}
