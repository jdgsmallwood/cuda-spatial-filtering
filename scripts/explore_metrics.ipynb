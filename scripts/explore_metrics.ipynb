{
 "cells": [
  {
   "cell_type": "code",
   "execution_count": 1,
   "id": "6484c5d7-66aa-4b5f-9fa6-aa1f646adfc4",
   "metadata": {},
   "outputs": [],
   "source": [
    "\n",
    "\n"
   ]
  },
  {
   "cell_type": "code",
   "execution_count": 40,
   "id": "fcb63fcf-c9a1-4b3c-b2c1-15d584bb5391",
   "metadata": {},
   "outputs": [
    {
     "name": "stderr",
     "output_type": "stream",
     "text": [
      "\u001b[32m2025-07-25 16:50:07.673\u001b[0m | \u001b[1mINFO    \u001b[0m | \u001b[36m__main__\u001b[0m:\u001b[36m<module>\u001b[0m:\u001b[36m23\u001b[0m - \u001b[1mSetting up MlFlow\u001b[0m\n",
      "\u001b[32m2025-07-25 16:50:07.741\u001b[0m | \u001b[1mINFO    \u001b[0m | \u001b[36m__main__\u001b[0m:\u001b[36m<module>\u001b[0m:\u001b[36m29\u001b[0m - \u001b[1mjob_id: f520387e-af43-4b52-8bee-56c207d0df5e\u001b[0m\n",
      "\u001b[32m2025-07-25 16:50:07.786\u001b[0m | \u001b[1mINFO    \u001b[0m | \u001b[36m__main__\u001b[0m:\u001b[36m<module>\u001b[0m:\u001b[36m65\u001b[0m - \u001b[1mPARAMS:\n",
      "\u001b[0m\n",
      "\u001b[32m2025-07-25 16:50:07.787\u001b[0m | \u001b[1mINFO    \u001b[0m | \u001b[36m__main__\u001b[0m:\u001b[36m<module>\u001b[0m:\u001b[36m66\u001b[0m - \u001b[1m{'NR_CHANNELS': 16, 'NR_RECEIVERS': 32, 'NR_BITS': 8, 'NR_POLARIZATIONS': 2, 'NR_PACKETS_FOR_CORRELATION': 16, 'NR_TIME_STEPS_PER_PACKET': 64, 'NR_RECEIVERS_PER_BLOCK': 32, 'NR_BUFFERS': 2, 'NR_CORRELATIONS_BLOCKS_TO_INTEGRATE': 10, 'NR_PACKETS_TOTAL': 500, 'GENERATED_INPUT_FILE_NAME': 'input_f520387e-af43-4b52-8bee-56c207d0df5e.pcap', 'REMOTE_PATH': '/home/jsmallwo/projects/cuda-spatial-filtering/build', 'REMOTE_EXEC': './beamform_spatial /home/jsmallwo/projects/cuda-spatial-filtering/build/f520387e-af43-4b52-8bee-56c207d0df5e/input_f520387e-af43-4b52-8bee-56c207d0df5e.pcap benchmarks_f520387e-af43-4b52-8bee-56c207d0df5e.json', 'REMOTE_EXEC_NCU': './beamform_spatial ~/projects/output_10.pcap benchmarks_f520387e-af43-4b52-8bee-56c207d0df5e.json.ncu', 'PROFILE_OUTPUT': 'profile_output_f520387e-af43-4b52-8bee-56c207d0df5e', 'NSYS_PROFILE_OUTPUT': 'nsys_profile_output_f520387e-af43-4b52-8bee-56c207d0df5e', 'JOB_OUTPUT_FILE_NAME': 'output_f520387e-af43-4b52-8bee-56c207d0df5e.txt'}\u001b[0m\n",
      "\u001b[32m2025-07-25 16:50:07.787\u001b[0m | \u001b[1mINFO    \u001b[0m | \u001b[36m__main__\u001b[0m:\u001b[36m<module>\u001b[0m:\u001b[36m68\u001b[0m - \u001b[1mCreating input dataset....\u001b[0m\n"
     ]
    },
    {
     "name": "stdout",
     "output_type": "stream",
     "text": [
      "✅ PCAP file 'f520387e-af43-4b52-8bee-56c207d0df5e/input_f520387e-af43-4b52-8bee-56c207d0df5e.pcap' written.\n",
      "building file list ... done\n",
      "created directory /home/jsmallwo/projects/cuda-spatial-filtering/build/f520387e-af43-4b52-8bee-56c207d0df5e\n",
      "input_f520387e-af43-4b52-8bee-56c207d0df5e.pcap\n"
     ]
    },
    {
     "name": "stderr",
     "output_type": "stream",
     "text": [
      "\u001b[32m2025-07-25 16:51:48.689\u001b[0m | \u001b[1mINFO    \u001b[0m | \u001b[36m__main__\u001b[0m:\u001b[36m<module>\u001b[0m:\u001b[36m81\u001b[0m - \u001b[1mCreating slurm script\u001b[0m\n",
      "\u001b[32m2025-07-25 16:51:48.690\u001b[0m | \u001b[1mINFO    \u001b[0m | \u001b[36m__main__\u001b[0m:\u001b[36m<module>\u001b[0m:\u001b[36m99\u001b[0m - \u001b[1mWriting to file\u001b[0m\n",
      "\u001b[32m2025-07-25 16:51:48.696\u001b[0m | \u001b[1mINFO    \u001b[0m | \u001b[36m__main__\u001b[0m:\u001b[36m<module>\u001b[0m:\u001b[36m104\u001b[0m - \u001b[1mSlurm script written to 'submit_job.sh'\u001b[0m\n",
      "\u001b[32m2025-07-25 16:51:48.697\u001b[0m | \u001b[1mINFO    \u001b[0m | \u001b[36m__main__\u001b[0m:\u001b[36m<module>\u001b[0m:\u001b[36m108\u001b[0m - \u001b[1mSyncing slurm script to remote...\u001b[0m\n"
     ]
    },
    {
     "name": "stdout",
     "output_type": "stream",
     "text": [
      "\n",
      "sent 15681575 bytes  received 42 bytes  2090882.27 bytes/sec\n",
      "total size is 33728024  speedup is 2.15\n"
     ]
    },
    {
     "name": "stderr",
     "output_type": "stream",
     "text": [
      "\u001b[32m2025-07-25 16:51:51.104\u001b[0m | \u001b[1mINFO    \u001b[0m | \u001b[36m__main__\u001b[0m:\u001b[36m<module>\u001b[0m:\u001b[36m113\u001b[0m - \u001b[1mSubmitting slurm job...\u001b[0m\n"
     ]
    },
    {
     "name": "stdout",
     "output_type": "stream",
     "text": [
      "building file list ... done\n",
      "submit_job.sh\n",
      "\n",
      "sent 628 bytes  received 54 bytes  194.86 bytes/sec\n",
      "total size is 1393  speedup is 2.04\n"
     ]
    },
    {
     "name": "stderr",
     "output_type": "stream",
     "text": [
      "Pseudo-terminal will not be allocated because stdin is not a terminal.\n"
     ]
    },
    {
     "name": "stdout",
     "output_type": "stream",
     "text": [
      "Submitted batch job 2628206\n"
     ]
    },
    {
     "name": "stderr",
     "output_type": "stream",
     "text": [
      "\u001b[32m2025-07-25 16:54:12.870\u001b[0m | \u001b[1mINFO    \u001b[0m | \u001b[36m__main__\u001b[0m:\u001b[36m<module>\u001b[0m:\u001b[36m119\u001b[0m - \u001b[1mPulling back results...\u001b[0m\n"
     ]
    },
    {
     "name": "stdout",
     "output_type": "stream",
     "text": [
      "receiving file list ... done\n",
      "profile_output_f520387e-af43-4b52-8bee-56c207d0df5e.csv\n",
      "\n",
      "sent 38 bytes  received 24119 bytes  6902.00 bytes/sec\n",
      "total size is 345185  speedup is 14.29\n",
      "receiving file list ... done\n",
      "profile_output_f520387e-af43-4b52-8bee-56c207d0df5e.ncu-rep\n",
      "\n",
      "sent 38 bytes  received 2373810 bytes  678242.29 bytes/sec\n",
      "total size is 19186476  speedup is 8.08\n",
      "receiving file list ... done\n",
      "nsys_profile_output_f520387e-af43-4b52-8bee-56c207d0df5e.nsys-rep\n",
      "\n",
      "sent 38 bytes  received 432808 bytes  173138.40 bytes/sec\n",
      "total size is 935920  speedup is 2.16\n",
      "receiving file list ... done\n",
      "output_f520387e-af43-4b52-8bee-56c207d0df5e.txt\n",
      "\n",
      "sent 38 bytes  received 30842 bytes  8822.86 bytes/sec\n",
      "total size is 2080784  speedup is 67.38\n"
     ]
    },
    {
     "name": "stderr",
     "output_type": "stream",
     "text": [
      "\u001b[32m2025-07-25 16:54:26.622\u001b[0m | \u001b[1mINFO    \u001b[0m | \u001b[36m__main__\u001b[0m:\u001b[36m<module>\u001b[0m:\u001b[36m170\u001b[0m - \u001b[1mStarting MLFlow run...\u001b[0m\n",
      "\u001b[32m2025-07-25 16:54:26.723\u001b[0m | \u001b[1mINFO    \u001b[0m | \u001b[36m__main__\u001b[0m:\u001b[36m<module>\u001b[0m:\u001b[36m181\u001b[0m - \u001b[1mLogging parameters...\u001b[0m\n"
     ]
    },
    {
     "name": "stdout",
     "output_type": "stream",
     "text": [
      "receiving file list ... done\n",
      "benchmarks_f520387e-af43-4b52-8bee-56c207d0df5e.json\n",
      "\n",
      "sent 38 bytes  received 308 bytes  98.86 bytes/sec\n",
      "total size is 216  speedup is 0.62\n"
     ]
    },
    {
     "name": "stderr",
     "output_type": "stream",
     "text": [
      "\u001b[32m2025-07-25 16:54:26.789\u001b[0m | \u001b[1mINFO    \u001b[0m | \u001b[36m__main__\u001b[0m:\u001b[36m<module>\u001b[0m:\u001b[36m188\u001b[0m - \u001b[1mLogging metrics...\u001b[0m\n",
      "\u001b[32m2025-07-25 16:54:26.960\u001b[0m | \u001b[1mINFO    \u001b[0m | \u001b[36m__main__\u001b[0m:\u001b[36m<module>\u001b[0m:\u001b[36m203\u001b[0m - \u001b[1m✅ MLflow run completed: 6e3f7aeb2bd641d4a6634c2013c68046\u001b[0m\n",
      "\u001b[32m2025-07-25 16:54:26.971\u001b[0m | \u001b[1mINFO    \u001b[0m | \u001b[36m__main__\u001b[0m:\u001b[36m<module>\u001b[0m:\u001b[36m205\u001b[0m - \u001b[1mCleaning up....\u001b[0m\n"
     ]
    },
    {
     "name": "stdout",
     "output_type": "stream",
     "text": [
      "🏃 View run nosy-colt-73 at: http://localhost:5000/#/experiments/242493091591921745/runs/6e3f7aeb2bd641d4a6634c2013c68046\n",
      "🧪 View experiment at: http://localhost:5000/#/experiments/242493091591921745\n"
     ]
    },
    {
     "data": {
      "text/plain": [
       "CompletedProcess(args='rm -r f520387e-af43-4b52-8bee-56c207d0df5e', returncode=0)"
      ]
     },
     "execution_count": 40,
     "metadata": {},
     "output_type": "execute_result"
    }
   ],
   "source": [
    "import uuid\n",
    "import mlflow\n",
    "import subprocess\n",
    "import pandas as pd\n",
    "import os\n",
    "from loguru import logger\n",
    "\n",
    "def get_git_commit():\n",
    "    try:\n",
    "        return (\n",
    "            subprocess.check_output([\"git\", \"rev-parse\", \"HEAD\"])\n",
    "            .strip()\n",
    "            .decode(\"utf-8\")\n",
    "        )\n",
    "    except subprocess.CalledProcessError:\n",
    "        return \"unknown\"\n",
    "\n",
    "\n",
    "\n",
    "#REMOTE_PATH = \"~/projects/cuda-spatial-filtering/build\"\n",
    "REMOTE_HOST = \"nt\"\n",
    "\n",
    "logger.info(\"Setting up MlFlow\")\n",
    "mlflow.set_tracking_uri(\"http://localhost:5000\")\n",
    "mlflow.set_experiment(\"2025-beamforming-cuda-optimization-test\")\n",
    "\n",
    "\n",
    "job_id = str(uuid.uuid4())\n",
    "logger.info(f\"job_id: {job_id}\")\n",
    "\n",
    "LOCAL_OUTPUT_DIR = job_id\n",
    "subprocess.run([\"mkdir\", job_id])\n",
    "\n",
    "git_commit = subprocess.check_output([\"git\", \"rev-parse\", \"HEAD\"]).decode().strip()\n",
    "SLURM_FILE_NAME = \"submit_job.sh\"\n",
    "\n",
    "#benchmark_dataset = \"~/projects/output_5000.pcap\"\n",
    "ncu_dataset = \"~/projects/output_10.pcap\"\n",
    "benchmark_file_name = f\"benchmarks_{job_id}.json\"\n",
    "\n",
    "run_description = \"\"\n",
    "\n",
    "\n",
    "params = {}\n",
    "\n",
    "params['NR_CHANNELS'] = 16\n",
    "params['NR_RECEIVERS'] = 32\n",
    "params['NR_BITS'] = 8\n",
    "params['NR_POLARIZATIONS'] = 2\n",
    "params['NR_PACKETS_FOR_CORRELATION'] = 16\n",
    "params['NR_TIME_STEPS_PER_PACKET'] = 64\n",
    "params['NR_RECEIVERS_PER_BLOCK'] = 32\n",
    "params['NR_BUFFERS'] = 2\n",
    "params['NR_CORRELATIONS_BLOCKS_TO_INTEGRATE'] = 10\n",
    "params['NR_PACKETS_TOTAL'] = 500\n",
    "\n",
    "params['GENERATED_INPUT_FILE_NAME'] = f\"input_{job_id}.pcap\"\n",
    "params['REMOTE_PATH'] = '/home/jsmallwo/projects/cuda-spatial-filtering/build'\n",
    "params['REMOTE_EXEC'] = f\"./beamform_spatial {params['REMOTE_PATH']}/{job_id}/{params['GENERATED_INPUT_FILE_NAME']} {benchmark_file_name}\" \n",
    "params['REMOTE_EXEC_NCU'] = f\"./beamform_spatial {ncu_dataset} {benchmark_file_name}.ncu\" \n",
    "params['PROFILE_OUTPUT'] = f\"profile_output_{job_id}\"\n",
    "params['NSYS_PROFILE_OUTPUT'] = f\"nsys_profile_output_{job_id}\"\n",
    "params['JOB_OUTPUT_FILE_NAME'] = f\"output_{job_id}.txt\"\n",
    "\n",
    "logger.info(f\"PARAMS:\\n\")\n",
    "logger.info(params)\n",
    "\n",
    "logger.info(\"Creating input dataset....\")\n",
    "cmd = (\n",
    "    'source .venv/bin/activate && '\n",
    "    f'python create_pcap.py --output {job_id}/{params[\"GENERATED_INPUT_FILE_NAME\"]} '\n",
    "    f'--number_receivers {params[\"NR_RECEIVERS\"]} '\n",
    "    f'--number_packets {params[\"NR_PACKETS_TOTAL\"]} '\n",
    "    f'--number_channels {params[\"NR_CHANNELS\"]}'\n",
    ")\n",
    "subprocess.run(cmd, shell=True, check=True)\n",
    "\n",
    "\n",
    "subprocess.run(['rsync', '-avz', os.path.join(job_id, params[\"GENERATED_INPUT_FILE_NAME\"]), f\"{REMOTE_HOST}:{REMOTE_PATH}/{job_id}/\"])\n",
    "\n",
    "logger.info(\"Creating slurm script\")\n",
    "slurm_script = f\"\"\"\n",
    "#!/bin/bash\n",
    "#\n",
    "#SBATCH --job-name=profile\n",
    "#SBATCH --output={params[\"JOB_OUTPUT_FILE_NAME\"]}\n",
    "#\n",
    "#SBATCH --ntasks=1\n",
    "#SBATCH --time=10:00\n",
    "#SBATCH --mem=4g\n",
    "#SBATCH --gres=gpu:1\n",
    "\n",
    "srun apptainer exec --nv /fred/oz002/jsmallwo/apptainer.sif /bin/bash -c \"cd {params[\"REMOTE_PATH\"]} && \\\\\n",
    "    cmake -DBUILD_TESTING=OFF -DBENCHMARKING=1 -DBUILD_TARGET=LAMBDA -DNR_CHANNELS={params[\"NR_CHANNELS\"]} -DNR_RECEIVERS={params[\"NR_RECEIVERS\"]} .. && cmake --build . && \\\\\n",
    "    cd apps && {params['REMOTE_EXEC']}  &&\n",
    "    ncu -f --set full --target-processes all --export {params[\"PROFILE_OUTPUT\"]} {params[\"REMOTE_EXEC_NCU\"]} && \\\\\n",
    "    ncu --import {params[\"PROFILE_OUTPUT\"]}.ncu-rep --csv --page details > {params[\"PROFILE_OUTPUT\"]}.csv && \\\\\n",
    "    nsys profile -t cuda,nvtx -o {params[\"NSYS_PROFILE_OUTPUT\"]} --stats=true --force-overwrite true {params[\"REMOTE_EXEC\"]}\"\n",
    "\"\"\"\n",
    "logger.info(\"Writing to file\")\n",
    "# Write to file\n",
    "with open(\"submit_job.sh\", \"w\") as f:\n",
    "    f.write(slurm_script)\n",
    "\n",
    "logger.info(\"Slurm script written to 'submit_job.sh'\")\n",
    "\n",
    "\n",
    "# === Step 6: Sync slurm script to server ===\n",
    "logger.info(\"Syncing slurm script to remote...\")\n",
    "subprocess.run([\"rsync\", \"-avz\", SLURM_FILE_NAME, f\"{REMOTE_HOST}:{params['REMOTE_PATH']}\"])\n",
    "\n",
    "\n",
    "# === Step 7: Compile and profile remotely ===\n",
    "logger.info(\"Submitting slurm job...\")\n",
    "subprocess.run(\n",
    "    f'ssh {REMOTE_HOST} -t \"cd {params[\"REMOTE_PATH\"]} && sbatch -W submit_job.sh\"',\n",
    "    shell=True,\n",
    ")\n",
    "\n",
    "logger.info(\"Pulling back results...\")\n",
    "os.makedirs(LOCAL_OUTPUT_DIR, exist_ok=True)\n",
    "subprocess.run(\n",
    "    [\n",
    "        \"rsync\",\n",
    "        \"-avz\",\n",
    "        f\"{REMOTE_HOST}:{params['REMOTE_PATH']}/apps/{params['PROFILE_OUTPUT']}.csv\",\n",
    "        LOCAL_OUTPUT_DIR,\n",
    "    ]\n",
    ")\n",
    "\n",
    "subprocess.run(\n",
    "    [\n",
    "        \"rsync\",\n",
    "        \"-avz\",\n",
    "        f\"{REMOTE_HOST}:{params['REMOTE_PATH']}/apps/{params['PROFILE_OUTPUT']}.ncu-rep\",\n",
    "        LOCAL_OUTPUT_DIR,\n",
    "    ]\n",
    ")\n",
    "\n",
    "subprocess.run(\n",
    "    [\n",
    "        \"rsync\",\n",
    "        \"-avz\",\n",
    "        f\"{REMOTE_HOST}:{params['REMOTE_PATH']}/apps/{params['NSYS_PROFILE_OUTPUT']}.nsys-rep\",\n",
    "        LOCAL_OUTPUT_DIR,\n",
    "    ]\n",
    ")\n",
    "\n",
    "subprocess.run(\n",
    "    [\n",
    "        \"rsync\",\n",
    "        \"-avz\",\n",
    "        f\"{REMOTE_HOST}:{params['REMOTE_PATH']}/{params['JOB_OUTPUT_FILE_NAME']}\",\n",
    "        LOCAL_OUTPUT_DIR,\n",
    "    ]\n",
    ")\n",
    "\n",
    "subprocess.run(\n",
    "    [\n",
    "        \"rsync\",\n",
    "        \"-avz\",\n",
    "        f\"{REMOTE_HOST}:{params['REMOTE_PATH']}/apps/{benchmark_file_name}\",\n",
    "        LOCAL_OUTPUT_DIR,\n",
    "    ]\n",
    ")\n",
    "\n",
    "\n",
    "local_rep_path = os.path.join(LOCAL_OUTPUT_DIR, f\"{params['PROFILE_OUTPUT']}.csv\")\n",
    "\n",
    "\n",
    "logger.info(\"Starting MLFlow run...\")\n",
    "description = f\"\"\"\n",
    "**Description**\n",
    "{run_description}\n",
    "\n",
    "\"\"\"\n",
    "\n",
    "with mlflow.start_run(description=description) as run:\n",
    "    profile_path = f\"{os.path.join(LOCAL_OUTPUT_DIR, params['PROFILE_OUTPUT'])}.csv\"\n",
    "    data = pd.read_csv(profile_path)\n",
    "    #model_params = extract_parameters_from_csv(data)\n",
    "    logger.info(\"Logging parameters...\")\n",
    "    #mlflow.log_params(model_params)\n",
    "    mlflow.log_param(\"git_commit_hash\", get_git_commit())\n",
    "    mlflow.log_params(params)\n",
    "    #mlflow.log_param(\"benchmark_dataset\", benchmark_dataset)\n",
    "    \n",
    "    \n",
    "    logger.info(\"Logging metrics...\")\n",
    "    #metrics = extract_metrics_from_csv(data)\n",
    "    #mlflow.log_metrics(metrics)\n",
    "    with open(os.path.join(LOCAL_OUTPUT_DIR,benchmark_file_name), 'r') as f:\n",
    "        timings = json.load(f)\n",
    "        timings['beamforming_duration_us'] = timings['checkpoint_end_beamforming'] - timings['checkpoint_begin_beamforming']\n",
    "        mlflow.log_metrics(timings) \n",
    "\n",
    "    mlflow.log_artifact(profile_path)\n",
    "    # log the original ncu-rep file as well.\n",
    "    mlflow.log_artifact(profile_path.replace(\".csv\", \".ncu-rep\"))\n",
    "    mlflow.log_artifact(os.path.join(LOCAL_OUTPUT_DIR,f\"{params['NSYS_PROFILE_OUTPUT']}.nsys-rep\"))\n",
    "    mlflow.log_artifact(os.path.join(LOCAL_OUTPUT_DIR,benchmark_file_name))\n",
    "    mlflow.log_artifact(os.path.join(LOCAL_OUTPUT_DIR, params[\"JOB_OUTPUT_FILE_NAME\"]))\n",
    "\n",
    "    logger.info(f\"✅ MLflow run completed: {run.info.run_id}\")\n",
    "\n",
    "logger.info(\"Cleaning up....\")\n",
    "subprocess.run(\n",
    "f\"ssh {REMOTE_HOST} rm -r {params['REMOTE_PATH']}/{job_id}/\", shell=True\n",
    ")\n",
    "subprocess.run(f\"rm -r {job_id}\", shell=True)\n",
    "\n",
    "\n"
   ]
  },
  {
   "cell_type": "code",
   "execution_count": 38,
   "id": "002167f1-8a11-424b-9ac8-2c53c5b950c2",
   "metadata": {},
   "outputs": [
    {
     "name": "stderr",
     "output_type": "stream",
     "text": [
      "rm: cannot remove '/Users/jsmallwood/projects/cuda-spatial-filtering/build/b76287e5-2265-4061-8e53-f0b9d0eb4363/': No such file or directory\n",
      "rm: b76287e5-2265-4061-8e53-f0b9d0eb4363: No such file or directory\n"
     ]
    },
    {
     "data": {
      "text/plain": [
       "CompletedProcess(args='rm -r b76287e5-2265-4061-8e53-f0b9d0eb4363', returncode=1)"
      ]
     },
     "execution_count": 38,
     "metadata": {},
     "output_type": "execute_result"
    }
   ],
   "source": [
    "subprocess.run(\n",
    "f\"ssh {REMOTE_HOST} rm -r {REMOTE_PATH}/{job_id}/\", shell=True\n",
    ")\n",
    "subprocess.run(f\"rm -r {job_id}\", shell=True)"
   ]
  },
  {
   "cell_type": "code",
   "execution_count": null,
   "id": "87aedee5-6fb6-42a4-8643-a6e80e13257d",
   "metadata": {},
   "outputs": [],
   "source": []
  }
 ],
 "metadata": {
  "kernelspec": {
   "display_name": "Python 3 (ipykernel)",
   "language": "python",
   "name": "python3"
  },
  "language_info": {
   "codemirror_mode": {
    "name": "ipython",
    "version": 3
   },
   "file_extension": ".py",
   "mimetype": "text/x-python",
   "name": "python",
   "nbconvert_exporter": "python",
   "pygments_lexer": "ipython3",
   "version": "3.13.5"
  }
 },
 "nbformat": 4,
 "nbformat_minor": 5
}
